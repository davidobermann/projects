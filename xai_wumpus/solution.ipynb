{
 "cells": [
  {
   "cell_type": "markdown",
   "metadata": {},
   "source": [
    "# Exploration of Projection Spaces"
   ]
  },
  {
   "cell_type": "code",
   "execution_count": 1,
   "metadata": {},
   "outputs": [],
   "source": [
    "# Feel free to add dependencies, but make sure that they are included in environment.yml\n",
    "\n",
    "#disable some annoying warnings\n",
    "import warnings\n",
    "warnings.filterwarnings('ignore', category=FutureWarning)\n",
    "\n",
    "#plots the figures in place instead of a new window\n",
    "%matplotlib inline\n",
    "\n",
    "import numpy as np\n",
    "import pandas as pd\n",
    "\n",
    "import matplotlib.pyplot as plt\n",
    "import altair as alt\n",
    "from altair import datum\n",
    "alt.data_transformers.disable_max_rows()\n",
    "\n",
    "from sklearn import manifold\n",
    "from openTSNE import TSNE\n",
    "from openTSNE.callbacks import ErrorLogger\n",
    "from umap import UMAP"
   ]
  },
  {
   "cell_type": "markdown",
   "metadata": {},
   "source": [
    "## Data\n",
    "To be able to explore paths in a projected space, you need to pick a problem/algorithm/model that consists of multiple states that change iteratively.\n",
    "\n",
    "<details>\n",
    "    <summary><a>Click to see an Example</a></summary>\n",
    "\n",
    "    \n",
    "An example is the solving of a Rubik's Cube. After each rotation the state of the cube changes. This results in a path from the initial state, through the individual rotations, to the solved cube.\n",
    "By using projection, we can examine the individual states and paths in the two-dimensional space.\n",
    "Depending on the initial state and the solution strategy the paths will differ or resemble each other.\n",
    "    \n",
    "This is an example of solving 10 randomly scrambled Rubik's Cubes with two different strategies, the Beginner (in green) and the Fridrich Method (in orange):\n",
    "<div>\n",
    "    <img alt=\"Rubiks's Cube Sovling Strategies\" src=\"rubiks.png\" width=\"600\"/>\n",
    "</div>\n",
    "You can see that although each cube is scrambled differently in the beginning, both strategies converge to the same paths after a few steps.\n",
    "You can also notice that the Beginner's method takes some additional paths that are not necessary with the Fridrich method.\n",
    "</details>\n",
    "\n",
    "### Read and Prepare Data\n",
    "Read in your data from a file or create your own data.\n",
    "\n",
    "Document any data processing steps."
   ]
  },
  {
   "cell_type": "code",
   "execution_count": 2,
   "metadata": {},
   "outputs": [],
   "source": [
    "from copy import copy\n",
    "from wumpusworld.simplified_wumpus_world import SimplifiedWumpusWorld\n",
    "import os\n",
    "import random\n",
    "import numpy as np\n",
    "import pandas as pd\n",
    "import matplotlib.pyplot as plt\n",
    "from os import mkdir\n",
    "from os import path\n",
    "from sklearn.decomposition import PCA"
   ]
  },
  {
   "cell_type": "code",
   "execution_count": 3,
   "metadata": {},
   "outputs": [],
   "source": [
    "# algorithms for the wumpus\n",
    "\n",
    "runs = 10000\n",
    "\n",
    "def q_learning(env):\n",
    "    action_space_size = env.action_space.n\n",
    "    state_space_size = env.observation_space.n\n",
    "    q_table = np.zeros((state_space_size, action_space_size))\n",
    "\n",
    "    gamma = 0.99\n",
    "    lr = 1.0\n",
    "    max_epsilon = 1.0\n",
    "    min_epsilon = 0.1\n",
    "    epsilon_decay_rate = 0.001\n",
    "\n",
    "    total_reward = 0\n",
    "    biggest_reward = -9999999\n",
    "    states = []\n",
    "    rewards_to_plot = np.zeros((runs, 100))\n",
    "\n",
    "    for run in range(runs):\n",
    "        state = env.reset()\n",
    "        run_reward = 0\n",
    "        for step in range(100):\n",
    "\n",
    "            if np.random.uniform(0, 1) > lr:\n",
    "                action = np.argmax(q_table[state, :])\n",
    "            else:\n",
    "                action = env.action_space.sample()\n",
    "\n",
    "            new_state, reward, done = env.step(action)\n",
    "\n",
    "            old_value = q_table[state, action]\n",
    "            next_max = np.max(q_table[new_state])\n",
    "\n",
    "            q_table[state, action] = old_value * (1 - lr) + lr * (reward + gamma * next_max)\n",
    "\n",
    "            state = new_state\n",
    "\n",
    "            run_reward += reward\n",
    "            rewards_to_plot[run, step] = reward\n",
    "            biggest_reward = max(biggest_reward, reward)\n",
    "\n",
    "            x, y = env.agentX, env.agentY\n",
    "\n",
    "            new_row_state = [\"q_learning\", x, y, run, step, action, reward, run_reward, total_reward, biggest_reward]\n",
    "            states.append(','.join(map(str, new_row_state)))\n",
    "\n",
    "            if done:\n",
    "                break\n",
    "\n",
    "        total_reward += run_reward\n",
    "        lr = min_epsilon + (max_epsilon - min_epsilon) * np.exp(-epsilon_decay_rate * run)\n",
    "\n",
    "    return states, rewards_to_plot\n",
    "\n",
    "\n",
    "def random(env):\n",
    "    total_reward = 0\n",
    "    states = []\n",
    "    rewards_to_plot = np.zeros((runs, 100))\n",
    "\n",
    "    for run in range(runs):\n",
    "        env.reset()\n",
    "        reward_run = 0\n",
    "        biggest_reward = 0\n",
    "        for step in range(100):\n",
    "            action = np.random.choice(env.action_space.n)\n",
    "            new_state, reward, done = env.step(action)\n",
    "\n",
    "            biggest_reward = max(biggest_reward, reward)\n",
    "            reward_run += reward\n",
    "            rewards_to_plot[run, step] = reward\n",
    "\n",
    "            x, y = env.agentX, env.agentY\n",
    "\n",
    "            new_row_state = [\"random\", x, y, run, step, action, reward, reward_run, total_reward, biggest_reward]\n",
    "            states.append(','.join(map(str, new_row_state)))\n",
    "\n",
    "            if done:\n",
    "                break\n",
    "    return states, rewards_to_plot\n",
    "\n",
    "\n",
    "def greedy(env):\n",
    "    total_reward = 0\n",
    "    states = []\n",
    "    rewards_to_plot = np.zeros((runs, 100))\n",
    "\n",
    "    for run in range(runs):\n",
    "        env.reset()\n",
    "        run_reward = 0\n",
    "        biggest_reward = 0\n",
    "        for step in range(100):\n",
    "            rewards_ = [(cenv := copy(env)).step(direction)[1] for direction in range(4)]\n",
    "            action = np.random.choice(np.argwhere(rewards_ == np.amax(rewards_)).flatten())\n",
    "            next_state, reward, done = env.step(action)\n",
    "\n",
    "            biggest_reward = max(biggest_reward, reward)\n",
    "            run_reward += reward\n",
    "            rewards_to_plot[run, step] = reward\n",
    "\n",
    "            x, y = env.agentX, env.agentY\n",
    "\n",
    "            new_row_state = [\"greedy\", x, y, run, step, action, reward, run_reward, total_reward, biggest_reward]\n",
    "            states.append(','.join(map(str, new_row_state)))\n",
    "\n",
    "            if done:\n",
    "                break\n",
    "        total_reward += run_reward\n",
    "\n",
    "    return states, rewards_to_plot"
   ]
  },
  {
   "cell_type": "code",
   "execution_count": 4,
   "metadata": {},
   "outputs": [],
   "source": [
    "env = SimplifiedWumpusWorld()\n",
    "\n",
    "fn = f\"data/wumpus/wumpus.csv\"\n",
    "\n",
    "sanity_check_rewards = []\n",
    "\n",
    "if not path.isdir(\"data/wumpus\"):\n",
    "    mkdir(\"data/wumpus\")"
   ]
  },
  {
   "cell_type": "code",
   "execution_count": 9,
   "metadata": {},
   "outputs": [],
   "source": [
    "# generating data from running 3 different algorithms on the wumpus game\n",
    "\n",
    "with open(fn, \"w\") as f:\n",
    "    f.write(f\"algo_name,x_agent_position,y_agent_position,run,step,action,reward,run_reward,total_reward,biggest_reward\\n\")\n",
    "    for algo in [random, greedy, q_learning]:\n",
    "        lines,rewards_to_plot = algo(env)\n",
    "        f.writelines(\"\\n\".join(lines))\n",
    "        f.write(\"\\n\")\n",
    "        \n",
    "        # save to plot them later\n",
    "        sanity_check_rewards.append(rewards_to_plot)"
   ]
  },
  {
   "cell_type": "code",
   "execution_count": 5,
   "metadata": {},
   "outputs": [
    {
     "data": {
      "text/html": [
       "<div>\n",
       "<style scoped>\n",
       "    .dataframe tbody tr th:only-of-type {\n",
       "        vertical-align: middle;\n",
       "    }\n",
       "\n",
       "    .dataframe tbody tr th {\n",
       "        vertical-align: top;\n",
       "    }\n",
       "\n",
       "    .dataframe thead th {\n",
       "        text-align: right;\n",
       "    }\n",
       "</style>\n",
       "<table border=\"1\" class=\"dataframe\">\n",
       "  <thead>\n",
       "    <tr style=\"text-align: right;\">\n",
       "      <th></th>\n",
       "      <th>algo_name</th>\n",
       "      <th>x_agent_position</th>\n",
       "      <th>y_agent_position</th>\n",
       "      <th>run</th>\n",
       "      <th>step</th>\n",
       "      <th>action</th>\n",
       "      <th>reward</th>\n",
       "      <th>run_reward</th>\n",
       "      <th>total_reward</th>\n",
       "      <th>biggest_reward</th>\n",
       "    </tr>\n",
       "  </thead>\n",
       "  <tbody>\n",
       "    <tr>\n",
       "      <th>0</th>\n",
       "      <td>random</td>\n",
       "      <td>0</td>\n",
       "      <td>0</td>\n",
       "      <td>0</td>\n",
       "      <td>0</td>\n",
       "      <td>1</td>\n",
       "      <td>-1</td>\n",
       "      <td>-1</td>\n",
       "      <td>0</td>\n",
       "      <td>0</td>\n",
       "    </tr>\n",
       "    <tr>\n",
       "      <th>1</th>\n",
       "      <td>random</td>\n",
       "      <td>0</td>\n",
       "      <td>1</td>\n",
       "      <td>0</td>\n",
       "      <td>1</td>\n",
       "      <td>0</td>\n",
       "      <td>-1</td>\n",
       "      <td>-2</td>\n",
       "      <td>0</td>\n",
       "      <td>0</td>\n",
       "    </tr>\n",
       "    <tr>\n",
       "      <th>2</th>\n",
       "      <td>random</td>\n",
       "      <td>0</td>\n",
       "      <td>0</td>\n",
       "      <td>0</td>\n",
       "      <td>2</td>\n",
       "      <td>1</td>\n",
       "      <td>-1</td>\n",
       "      <td>-3</td>\n",
       "      <td>0</td>\n",
       "      <td>0</td>\n",
       "    </tr>\n",
       "    <tr>\n",
       "      <th>3</th>\n",
       "      <td>random</td>\n",
       "      <td>0</td>\n",
       "      <td>0</td>\n",
       "      <td>0</td>\n",
       "      <td>3</td>\n",
       "      <td>1</td>\n",
       "      <td>-1</td>\n",
       "      <td>-4</td>\n",
       "      <td>0</td>\n",
       "      <td>0</td>\n",
       "    </tr>\n",
       "    <tr>\n",
       "      <th>4</th>\n",
       "      <td>random</td>\n",
       "      <td>0</td>\n",
       "      <td>0</td>\n",
       "      <td>0</td>\n",
       "      <td>4</td>\n",
       "      <td>1</td>\n",
       "      <td>-1</td>\n",
       "      <td>-5</td>\n",
       "      <td>0</td>\n",
       "      <td>0</td>\n",
       "    </tr>\n",
       "    <tr>\n",
       "      <th>...</th>\n",
       "      <td>...</td>\n",
       "      <td>...</td>\n",
       "      <td>...</td>\n",
       "      <td>...</td>\n",
       "      <td>...</td>\n",
       "      <td>...</td>\n",
       "      <td>...</td>\n",
       "      <td>...</td>\n",
       "      <td>...</td>\n",
       "      <td>...</td>\n",
       "    </tr>\n",
       "    <tr>\n",
       "      <th>602880</th>\n",
       "      <td>q_learning</td>\n",
       "      <td>1</td>\n",
       "      <td>1</td>\n",
       "      <td>9999</td>\n",
       "      <td>1</td>\n",
       "      <td>3</td>\n",
       "      <td>-1</td>\n",
       "      <td>-2</td>\n",
       "      <td>3913656</td>\n",
       "      <td>1000</td>\n",
       "    </tr>\n",
       "    <tr>\n",
       "      <th>602881</th>\n",
       "      <td>q_learning</td>\n",
       "      <td>2</td>\n",
       "      <td>1</td>\n",
       "      <td>9999</td>\n",
       "      <td>2</td>\n",
       "      <td>3</td>\n",
       "      <td>-1</td>\n",
       "      <td>-3</td>\n",
       "      <td>3913656</td>\n",
       "      <td>1000</td>\n",
       "    </tr>\n",
       "    <tr>\n",
       "      <th>602882</th>\n",
       "      <td>q_learning</td>\n",
       "      <td>2</td>\n",
       "      <td>2</td>\n",
       "      <td>9999</td>\n",
       "      <td>3</td>\n",
       "      <td>0</td>\n",
       "      <td>-1</td>\n",
       "      <td>-4</td>\n",
       "      <td>3913656</td>\n",
       "      <td>1000</td>\n",
       "    </tr>\n",
       "    <tr>\n",
       "      <th>602883</th>\n",
       "      <td>q_learning</td>\n",
       "      <td>3</td>\n",
       "      <td>2</td>\n",
       "      <td>9999</td>\n",
       "      <td>4</td>\n",
       "      <td>3</td>\n",
       "      <td>-1</td>\n",
       "      <td>-5</td>\n",
       "      <td>3913656</td>\n",
       "      <td>1000</td>\n",
       "    </tr>\n",
       "    <tr>\n",
       "      <th>602884</th>\n",
       "      <td>q_learning</td>\n",
       "      <td>3</td>\n",
       "      <td>3</td>\n",
       "      <td>9999</td>\n",
       "      <td>5</td>\n",
       "      <td>0</td>\n",
       "      <td>1000</td>\n",
       "      <td>995</td>\n",
       "      <td>3913656</td>\n",
       "      <td>1000</td>\n",
       "    </tr>\n",
       "  </tbody>\n",
       "</table>\n",
       "<p>602885 rows × 10 columns</p>\n",
       "</div>"
      ],
      "text/plain": [
       "         algo_name  x_agent_position  y_agent_position   run  step  action  \\\n",
       "0           random                 0                 0     0     0       1   \n",
       "1           random                 0                 1     0     1       0   \n",
       "2           random                 0                 0     0     2       1   \n",
       "3           random                 0                 0     0     3       1   \n",
       "4           random                 0                 0     0     4       1   \n",
       "...            ...               ...               ...   ...   ...     ...   \n",
       "602880  q_learning                 1                 1  9999     1       3   \n",
       "602881  q_learning                 2                 1  9999     2       3   \n",
       "602882  q_learning                 2                 2  9999     3       0   \n",
       "602883  q_learning                 3                 2  9999     4       3   \n",
       "602884  q_learning                 3                 3  9999     5       0   \n",
       "\n",
       "        reward  run_reward  total_reward  biggest_reward  \n",
       "0           -1          -1             0               0  \n",
       "1           -1          -2             0               0  \n",
       "2           -1          -3             0               0  \n",
       "3           -1          -4             0               0  \n",
       "4           -1          -5             0               0  \n",
       "...        ...         ...           ...             ...  \n",
       "602880      -1          -2       3913656            1000  \n",
       "602881      -1          -3       3913656            1000  \n",
       "602882      -1          -4       3913656            1000  \n",
       "602883      -1          -5       3913656            1000  \n",
       "602884    1000         995       3913656            1000  \n",
       "\n",
       "[602885 rows x 10 columns]"
      ]
     },
     "execution_count": 5,
     "metadata": {},
     "output_type": "execute_result"
    }
   ],
   "source": [
    "df_origin = pd.read_csv(fn)\n",
    "df_origin"
   ]
  },
  {
   "cell_type": "code",
   "execution_count": 10,
   "metadata": {},
   "outputs": [
    {
     "data": {
      "image/png": "[encoded data removed]",
      "text/plain": [
       "<Figure size 432x288 with 1 Axes>"
      ]
     },
     "metadata": {
      "needs_background": "light"
     },
     "output_type": "display_data"
    }
   ],
   "source": [
    "def sanity_check_rewards_plot(rewards_per_algos:list):\n",
    "    algos = [random, greedy, q_learning]\n",
    "    \n",
    "    for algo_rewards in rewards_per_algos:\n",
    "        rewards_per_thousand_episodes = np.split(np.array(algo_rewards), runs / 100)\n",
    "        count = 100\n",
    "        \n",
    "        output = []\n",
    "        for r in rewards_per_thousand_episodes:\n",
    "            # print(f\"{count: <5}: {np.sum(r / 100)}\")\n",
    "            output.append(np.sum(r / 100))\n",
    "            count += 100\n",
    "\n",
    "        plt.plot(output)\n",
    "\n",
    "    plt.legend([algo.__name__ for algo in algos])\n",
    "    plt.xlabel(\"step\")\n",
    "    plt.ylabel(\"reward\")\n",
    "    plt.show()\n",
    "\n",
    "\n",
    "sanity_check_rewards_plot(sanity_check_rewards)    "
   ]
  },
  {
   "cell_type": "code",
   "execution_count": 6,
   "metadata": {},
   "outputs": [
    {
     "data": {
      "image/png": "[encoded data removed]",
      "text/plain": [
       "<Figure size 432x288 with 1 Axes>"
      ]
     },
     "metadata": {
      "needs_background": "light"
     },
     "output_type": "display_data"
    },
    {
     "data": {
      "image/png": "[encoded data removed]",
      "text/plain": [
       "<Figure size 432x288 with 1 Axes>"
      ]
     },
     "metadata": {
      "needs_background": "light"
     },
     "output_type": "display_data"
    }
   ],
   "source": [
    "# success statistics for the algorithms\n",
    "all_runs = df_origin['run']\n",
    "runs_diff = np.diff(all_runs)\n",
    "last_line_ind = np.array(np.where(runs_diff != 0))\n",
    "last_line_ind = np.append(last_line_ind, len(df_origin)-1)\n",
    "n_dead_random = 0\n",
    "n_stop_random = 0\n",
    "n_gold_random = 0\n",
    "n_dead_greedy = 0\n",
    "n_stop_greedy = 0\n",
    "n_gold_greedy = 0\n",
    "n_dead_q_learning = 0\n",
    "n_stop_q_learning = 0\n",
    "n_gold_q_learning = 0\n",
    "\n",
    "for i in last_line_ind:\n",
    "    act_row = df_origin.iloc[i]\n",
    "    act_algo = act_row['algo_name']\n",
    "    act_outcome = act_row['reward']\n",
    "    #print(act_algo)\n",
    "    #print(act_outcome)\n",
    "    if act_algo == 'random':\n",
    "        if act_outcome == -1000:\n",
    "            n_dead_random += 1\n",
    "        elif act_outcome == 1000:\n",
    "            n_gold_random += 1\n",
    "        else:\n",
    "            n_stop_random += 1\n",
    "    elif act_algo == 'greedy':\n",
    "        if act_outcome == -1000:\n",
    "            n_dead_greedy += 1\n",
    "        elif act_outcome == 1000:\n",
    "            n_gold_greedy += 1\n",
    "        else:\n",
    "            n_stop_greedy += 1\n",
    "    elif act_algo == 'q_learning':\n",
    "        if act_outcome == -1000:\n",
    "            n_dead_q_learning += 1\n",
    "        elif act_outcome == 1000:\n",
    "            n_gold_q_learning += 1\n",
    "        else:\n",
    "            n_stop_q_learning += 1\n",
    "                \n",
    "average_steps_random = len(df_origin.loc[df_origin['algo_name'] == 'random']) / runs\n",
    "average_steps_greedy = len(df_origin.loc[df_origin['algo_name'] == 'greedy']) / runs\n",
    "average_steps_q_learning = len(df_origin.loc[df_origin['algo_name'] == 'q_learning']) / runs\n",
    "\n",
    "plt.figure()\n",
    "#plt.bar(['Random', 'Greedy', 'Q Learning'], [average_steps_random, average_steps_greedy, average_steps_q_learning], color = [[1, 0, 0],[1, 0, 1],[1, 1, 0]])\n",
    "plt.bar(['Random', 'Greedy', 'Q Learning'], [average_steps_random, average_steps_greedy, average_steps_q_learning], color = ['blue','orange','green'])\n",
    "#plt.xlabel('Algorithm')\n",
    "plt.ylabel('Average steps per run')\n",
    "plt.title('Average steps per run for each learning algorithm')\n",
    "plt.grid()\n",
    "plt.show()\n",
    "\n",
    "labels = ['Dead', 'Stopped', 'Gold']\n",
    "random_values = [n_dead_random, n_stop_random, n_gold_random]\n",
    "greedy_values = [n_dead_greedy, n_stop_greedy, n_gold_greedy]\n",
    "q_learning_values = [n_dead_q_learning, n_stop_q_learning, n_gold_q_learning]\n",
    "\n",
    "x = np.array([1, 3, 5])\n",
    "width = 0.5  # the width of the bars\n",
    "\n",
    "fig, ax = plt.subplots()\n",
    "rects1 = ax.bar(x - width, random_values, width, label = 'Random')\n",
    "rects2 = ax.bar(x, greedy_values, width, label = 'Greedy')\n",
    "rects3 = ax.bar(x + width, q_learning_values, width, label = 'Q Learning')\n",
    "\n",
    "# Add some text for labels, title and custom x-axis tick labels, etc.\n",
    "#ax.set_xlabel('Outcome')\n",
    "ax.set_ylabel('Number of outcomes')\n",
    "ax.set_title('Number of outcomes for each algorithm')\n",
    "ax.set_xticks(x)\n",
    "ax.set_xticklabels(labels)\n",
    "ax.legend()\n",
    "\n",
    "\n",
    "def autolabel(rects):\n",
    "    \"\"\"Attach a text label above each bar in *rects*, displaying its height.\"\"\"\n",
    "    for rect in rects:\n",
    "        height = rect.get_height()\n",
    "        ax.annotate('{}'.format(height),\n",
    "                    xy=(rect.get_x() + rect.get_width() / 2, height),\n",
    "                    xytext=(0, 3),  # 3 points vertical offset\n",
    "                    textcoords=\"offset points\",\n",
    "                    ha='center', va='bottom')\n",
    "\n",
    "\n",
    "autolabel(rects1)\n",
    "autolabel(rects2)\n",
    "autolabel(rects3)\n",
    "\n",
    "fig.tight_layout()\n",
    "\n",
    "plt.grid()\n",
    "plt.show()"
   ]
  },
  {
   "cell_type": "code",
   "execution_count": 7,
   "metadata": {
    "pycharm": {
     "name": "#%%\n"
    }
   },
   "outputs": [
    {
     "data": {
      "image/png": "[encoded data removed]",
      "text/plain": [
       "<Figure size 432x288 with 2 Axes>"
      ]
     },
     "metadata": {
      "needs_background": "light"
     },
     "output_type": "display_data"
    },
    {
     "data": {
      "image/png": "[encoded data removed]",
      "text/plain": [
       "<Figure size 432x288 with 2 Axes>"
      ]
     },
     "metadata": {
      "needs_background": "light"
     },
     "output_type": "display_data"
    },
    {
     "data": {
      "image/png": "[encoded data removed]",
      "text/plain": [
       "<Figure size 432x288 with 2 Axes>"
      ]
     },
     "metadata": {
      "needs_background": "light"
     },
     "output_type": "display_data"
    }
   ],
   "source": [
    "for algo in [\"q_learning\",\"greedy\",\"random\"]:\n",
    "    ql_df = df_origin[df_origin[\"algo_name\"]==f\"{algo}\"]\n",
    "    plt.hist2d(ql_df[\"x_agent_position\"], ql_df[\"y_agent_position\"],bins=4)\n",
    "    plt.text(2.5,2.5,\"G\", fontsize=35,color=\"yellow\")\n",
    "    plt.text(0.9,1.7,\"W\", fontsize=35,color=\"red\")\n",
    "    plt.text(0.3,1.7,\"P\", fontsize=35,color=\"green\")\n",
    "    plt.text(1.8,2.45,\"P\", fontsize=35,color=\"green\")\n",
    "    plt.text(2.5,0.9,\"P\", fontsize=35,color=\"green\")\n",
    "    plt.text(1.8,0.2,\"P\", fontsize=35,color=\"green\")\n",
    "    plt.xticks([])\n",
    "    plt.yticks([])\n",
    "    plt.colorbar()\n",
    "    plt.xlabel(\"x\")\n",
    "    plt.ylabel(\"y\")\n",
    "    plt.title(f\"{algo} states distribution\")\n",
    "    plt.show()"
   ]
  },
  {
   "cell_type": "markdown",
   "metadata": {},
   "source": [
    "### Comments\n",
    "- We generated the data ourselves.\n",
    "- We used algorithms implemented by us.\n",
    "- We used a preimplemented version of the wumpus world. (https://github.com/MagicTurtle2203/QLearningWumpusWorld)\n",
    "- We have not added or modified the original data for the time being.\n",
    "- In the follow-up process, we will filter the original data when required (drop some columns i.e.)"
   ]
  },
  {
   "cell_type": "markdown",
   "metadata": {
    "pycharm": {
     "name": "#%% md\n"
    }
   },
   "source": [
    "## Projection\n",
    "Project your data into a 2D space.\n",
    "Try multiple (3+) projection methods (e.g., t-SNE, UMAP, MDS, PCA, ICA, other methods) with different settings and compare them.\n",
    "\n",
    "Make sure that all additional dependencies are included when submitting."
   ]
  },
  {
   "cell_type": "markdown",
   "metadata": {
    "pycharm": {
     "name": "#%% md\n"
    }
   },
   "source": [
    "UMAP:"
   ]
  },
  {
   "cell_type": "code",
   "execution_count": 114,
   "metadata": {},
   "outputs": [],
   "source": [
    "fn = f\"data/wumpus/wumpus.csv\"\n",
    "df = pd.read_csv(fn)"
   ]
  },
  {
   "cell_type": "code",
   "execution_count": 115,
   "metadata": {},
   "outputs": [
    {
     "data": {
      "text/plain": [
       "(1216, 10)"
      ]
     },
     "execution_count": 115,
     "metadata": {},
     "output_type": "execute_result"
    }
   ],
   "source": [
    "df = df[df.run>=(9999-20)]\n",
    "df.shape"
   ]
  },
  {
   "cell_type": "code",
   "execution_count": 116,
   "metadata": {},
   "outputs": [],
   "source": [
    "proj_data1 = df.drop(columns=['algo_name', 'run_reward', 'total_reward', 'biggest_reward'])\n",
    "proj_data2 = df.drop(columns=['algo_name'])"
   ]
  },
  {
   "cell_type": "code",
   "execution_count": 117,
   "metadata": {},
   "outputs": [],
   "source": [
    "trans = UMAP(n_neighbors=5).fit(proj_data1)\n",
    "trans.embedding_.shape\n",
    "df_umap = pd.DataFrame(trans.embedding_, columns=['X','Y'])"
   ]
  },
  {
   "cell_type": "code",
   "execution_count": null,
   "metadata": {},
   "outputs": [],
   "source": [
    "trans = UMAP(n_neighbors=5).fit(proj_data2)\n",
    "trans.embedding_.shape\n",
    "df_umap2 = pd.DataFrame(trans.embedding_, columns=['X','Y'])"
   ]
  },
  {
   "cell_type": "code",
   "execution_count": 119,
   "metadata": {},
   "outputs": [],
   "source": [
    "df_umapco = df.copy()\n",
    "df_umapco.insert(10,'umapX',df_umap['X'].values)\n",
    "df_umapco.insert(11,'umapY',df_umap['Y'].values)\n",
    "df_umapco2 = df.copy()\n",
    "df_umapco2.insert(10,'umapX',df_umap2['X'].values)\n",
    "df_umapco2.insert(11,'umapY',df_umap2['Y'].values)"
   ]
  },
  {
   "cell_type": "code",
   "execution_count": null,
   "metadata": {
    "pycharm": {
     "name": "#%%\n"
    }
   },
   "outputs": [],
   "source": [
    "alt.Chart(df_umapco).mark_line(\n",
    "    opacity=0.8\n",
    ").encode(\n",
    "    x='umapX',\n",
    "    y='umapY',\n",
    "    color='algo_name:N',\n",
    "    order='step:Q',\n",
    "    shape='reward:N'\n",
    ").properties(\n",
    "    width=600,\n",
    "    height=600,\n",
    "    title=\"Projected last 20 runs - without using the cumulative reward features\"\n",
    ").interactive()"
   ]
  },
  {
   "cell_type": "markdown",
   "metadata": {},
   "source": [
    "This is the UMAP projection of the last 20 runs without using the cumulative reward features.<br>\n",
    "- Red circle -1000 reward which means the game is lost. (wumpus or pits)\n",
    "- Green circles are 1000 reward which indicates the win of the game (gold)\n",
    "- Obvious is: greedy takes a lot more steps\n",
    "- We can see that Q-Learning is trying to win, while greedy is learning not to die. --> greedy never dies.\n",
    "- Random always dies (here)"
   ]
  },
  {
   "cell_type": "markdown",
   "metadata": {},
   "source": [
    "<img src=\"data/wumpus/img/umap_without_reward.png\"/>"
   ]
  },
  {
   "cell_type": "markdown",
   "metadata": {},
   "source": [
    "- Which features did you use? Why?\n",
    "\n",
    " [step, current pos of the agent, action and reward, number of the run]\n",
    "  Why? --> We wanted to see how each algorithm performed.\n",
    "\n",
    "- Why did you choose these hyperparameters?\n",
    "\n",
    "  --> We tried out different values (3 to 200) and actually nn=5 delivered the best results for us.\n",
    "  \n",
    "- Are there patterns in the global _and_ the local structure?\n",
    "\n",
    "  --> see comments above"
   ]
  },
  {
   "cell_type": "code",
   "execution_count": null,
   "metadata": {},
   "outputs": [],
   "source": [
    "alt.Chart(df_umapco2).mark_line(\n",
    "    opacity=0.8\n",
    ").encode(\n",
    "    x='umapX',\n",
    "    y='umapY',\n",
    "    color='algo_name:N',\n",
    "    order='step:Q',\n",
    "    shape='reward:N'\n",
    ").properties(\n",
    "    width=600,\n",
    "    height=600,\n",
    "    title=\"Projected last 20 runs\"\n",
    ").interactive()"
   ]
  },
  {
   "cell_type": "markdown",
   "metadata": {},
   "source": [
    "This is the UMAP projection of the last 20 runs using the cumulative reward features.<br>\n",
    "- We can still observe the winning and dying states.\n",
    "- But it is harder to find out where comonalities are.\n",
    "- Also winning and dying states are not shared anymore, they are now in different clusters.\n",
    "- We cannot determine where the algorithms seem to start."
   ]
  },
  {
   "cell_type": "markdown",
   "metadata": {},
   "source": [
    "<img src=\"data/wumpus/img/umap_withrewards.png\"/>"
   ]
  },
  {
   "cell_type": "markdown",
   "metadata": {},
   "source": [
    "- Which features did you use? Why?\n",
    "\n",
    " [step, current pos of the agent, action and reward, number of the run]\n",
    "  Why? --> We wanted to see how each algorithm performed.\n",
    "\n",
    "- Why did you choose these hyperparameters?\n",
    "\n",
    "  --> We tried out different values (3 to 200) and actually nn=5 delivered the best results for us.\n",
    "  \n",
    "- Are there patterns in the global _and_ the local structure?\n",
    "\n",
    "  --> see comments above"
   ]
  },
  {
   "cell_type": "markdown",
   "metadata": {
    "pycharm": {
     "name": "#%% md\n"
    }
   },
   "source": [
    "PCA:"
   ]
  },
  {
   "cell_type": "code",
   "execution_count": 57,
   "metadata": {},
   "outputs": [
    {
     "data": {
      "text/plain": [
       "Index(['algo_name', 'x_agent_position', 'y_agent_position', 'run', 'step',\n",
       "       'action', 'reward', 'run_reward', 'total_reward', 'biggest_reward'],\n",
       "      dtype='object')"
      ]
     },
     "execution_count": 57,
     "metadata": {},
     "output_type": "execute_result"
    }
   ],
   "source": [
    "fn = f\"data/wumpus/wumpus.csv\"\n",
    "df = pd.read_csv(fn)\n",
    "df.columns"
   ]
  },
  {
   "cell_type": "code",
   "execution_count": 63,
   "metadata": {},
   "outputs": [
    {
     "data": {
      "text/plain": [
       "(1216, 10)"
      ]
     },
     "execution_count": 63,
     "metadata": {},
     "output_type": "execute_result"
    }
   ],
   "source": [
    "df = df[df.run>=(9999-20)]\n",
    "#df.value_counts(df.algo_name)\n",
    "df.shape"
   ]
  },
  {
   "cell_type": "code",
   "execution_count": 64,
   "metadata": {},
   "outputs": [],
   "source": [
    "proj_data = df.drop(columns=['algo_name', 'run_reward', 'total_reward', 'biggest_reward'])"
   ]
  },
  {
   "cell_type": "code",
   "execution_count": 65,
   "metadata": {},
   "outputs": [],
   "source": [
    "pca = PCA(n_components=2).fit_transform(proj_data)\n",
    "pca_df = pd.DataFrame(pca, columns=['X','Y'])"
   ]
  },
  {
   "cell_type": "code",
   "execution_count": 66,
   "metadata": {
    "pycharm": {
     "name": "#%%\n"
    }
   },
   "outputs": [],
   "source": [
    "df_pca = df.copy()\n",
    "df_pca.insert(10,'pcaX',pca_df['X'].values)\n",
    "df_pca.insert(11,'pcaY',pca_df['Y'].values)"
   ]
  },
  {
   "cell_type": "code",
   "execution_count": null,
   "metadata": {},
   "outputs": [],
   "source": [
    "alt.Chart(df_pca).mark_line(\n",
    "    opacity=0.8\n",
    ").encode(\n",
    "    x='pcaX',\n",
    "    y='pcaY',\n",
    "    color='algo_name:N',\n",
    "    order='step:Q',\n",
    "    shape='reward:N'\n",
    ").properties(\n",
    "    width=600,\n",
    "    height=600,\n",
    "    title=\"Projected the last 20 runs\"\n",
    ").interactive()"
   ]
  },
  {
   "cell_type": "markdown",
   "metadata": {},
   "source": [
    "This is the PCA downprojection of the last 20 runs without cumulative reward features.\n",
    "- X axis is the same  as the actual reward.\n",
    "- Y axis seems to have some correlation with the amount of steps. (maybe average steps per run)"
   ]
  },
  {
   "cell_type": "markdown",
   "metadata": {},
   "source": [
    "<img src=\"data/wumpus/img/pca.png\"/>"
   ]
  },
  {
   "cell_type": "markdown",
   "metadata": {},
   "source": [
    "- Which features did you use? Why?\n",
    "\n",
    " [step, current pos of the agent, action and reward, number of the run]\n",
    "  Why? --> We wanted to see how each algorithm performed.\n",
    "  \n",
    "- Are there patterns in the global _and_ the local structure?\n",
    "\n",
    "  --> see comments above"
   ]
  },
  {
   "cell_type": "markdown",
   "metadata": {
    "pycharm": {
     "name": "#%% md\n"
    }
   },
   "source": [
    "TSNE:"
   ]
  },
  {
   "cell_type": "code",
   "execution_count": 104,
   "metadata": {},
   "outputs": [],
   "source": [
    "fn = f\"data/wumpus/wumpus.csv\"\n",
    "df = pd.read_csv(fn)"
   ]
  },
  {
   "cell_type": "code",
   "execution_count": 105,
   "metadata": {},
   "outputs": [
    {
     "data": {
      "text/plain": [
       "algo_name\n",
       "greedy        471283\n",
       "random         70253\n",
       "q_learning     61349\n",
       "dtype: int64"
      ]
     },
     "execution_count": 105,
     "metadata": {},
     "output_type": "execute_result"
    }
   ],
   "source": [
    "df.value_counts(df.algo_name)"
   ]
  },
  {
   "cell_type": "code",
   "execution_count": 106,
   "metadata": {},
   "outputs": [
    {
     "data": {
      "text/html": [
       "<div>\n",
       "<style scoped>\n",
       "    .dataframe tbody tr th:only-of-type {\n",
       "        vertical-align: middle;\n",
       "    }\n",
       "\n",
       "    .dataframe tbody tr th {\n",
       "        vertical-align: top;\n",
       "    }\n",
       "\n",
       "    .dataframe thead th {\n",
       "        text-align: right;\n",
       "    }\n",
       "</style>\n",
       "<table border=\"1\" class=\"dataframe\">\n",
       "  <thead>\n",
       "    <tr style=\"text-align: right;\">\n",
       "      <th></th>\n",
       "      <th>algo_name</th>\n",
       "      <th>x_agent_position</th>\n",
       "      <th>y_agent_position</th>\n",
       "      <th>run</th>\n",
       "      <th>step</th>\n",
       "      <th>action</th>\n",
       "      <th>reward</th>\n",
       "      <th>run_reward</th>\n",
       "      <th>total_reward</th>\n",
       "      <th>biggest_reward</th>\n",
       "    </tr>\n",
       "  </thead>\n",
       "  <tbody>\n",
       "    <tr>\n",
       "      <th>70143</th>\n",
       "      <td>random</td>\n",
       "      <td>0</td>\n",
       "      <td>0</td>\n",
       "      <td>9980</td>\n",
       "      <td>0</td>\n",
       "      <td>2</td>\n",
       "      <td>-1</td>\n",
       "      <td>-1</td>\n",
       "      <td>0</td>\n",
       "      <td>0</td>\n",
       "    </tr>\n",
       "    <tr>\n",
       "      <th>70144</th>\n",
       "      <td>random</td>\n",
       "      <td>0</td>\n",
       "      <td>0</td>\n",
       "      <td>9980</td>\n",
       "      <td>1</td>\n",
       "      <td>2</td>\n",
       "      <td>-1</td>\n",
       "      <td>-2</td>\n",
       "      <td>0</td>\n",
       "      <td>0</td>\n",
       "    </tr>\n",
       "    <tr>\n",
       "      <th>70145</th>\n",
       "      <td>random</td>\n",
       "      <td>0</td>\n",
       "      <td>0</td>\n",
       "      <td>9980</td>\n",
       "      <td>2</td>\n",
       "      <td>1</td>\n",
       "      <td>-1</td>\n",
       "      <td>-3</td>\n",
       "      <td>0</td>\n",
       "      <td>0</td>\n",
       "    </tr>\n",
       "    <tr>\n",
       "      <th>70146</th>\n",
       "      <td>random</td>\n",
       "      <td>0</td>\n",
       "      <td>1</td>\n",
       "      <td>9980</td>\n",
       "      <td>3</td>\n",
       "      <td>0</td>\n",
       "      <td>-1</td>\n",
       "      <td>-4</td>\n",
       "      <td>0</td>\n",
       "      <td>0</td>\n",
       "    </tr>\n",
       "    <tr>\n",
       "      <th>70147</th>\n",
       "      <td>random</td>\n",
       "      <td>0</td>\n",
       "      <td>1</td>\n",
       "      <td>9980</td>\n",
       "      <td>4</td>\n",
       "      <td>2</td>\n",
       "      <td>-1</td>\n",
       "      <td>-5</td>\n",
       "      <td>0</td>\n",
       "      <td>0</td>\n",
       "    </tr>\n",
       "    <tr>\n",
       "      <th>...</th>\n",
       "      <td>...</td>\n",
       "      <td>...</td>\n",
       "      <td>...</td>\n",
       "      <td>...</td>\n",
       "      <td>...</td>\n",
       "      <td>...</td>\n",
       "      <td>...</td>\n",
       "      <td>...</td>\n",
       "      <td>...</td>\n",
       "      <td>...</td>\n",
       "    </tr>\n",
       "    <tr>\n",
       "      <th>602880</th>\n",
       "      <td>q_learning</td>\n",
       "      <td>1</td>\n",
       "      <td>1</td>\n",
       "      <td>9999</td>\n",
       "      <td>1</td>\n",
       "      <td>3</td>\n",
       "      <td>-1</td>\n",
       "      <td>-2</td>\n",
       "      <td>3913656</td>\n",
       "      <td>1000</td>\n",
       "    </tr>\n",
       "    <tr>\n",
       "      <th>602881</th>\n",
       "      <td>q_learning</td>\n",
       "      <td>2</td>\n",
       "      <td>1</td>\n",
       "      <td>9999</td>\n",
       "      <td>2</td>\n",
       "      <td>3</td>\n",
       "      <td>-1</td>\n",
       "      <td>-3</td>\n",
       "      <td>3913656</td>\n",
       "      <td>1000</td>\n",
       "    </tr>\n",
       "    <tr>\n",
       "      <th>602882</th>\n",
       "      <td>q_learning</td>\n",
       "      <td>2</td>\n",
       "      <td>2</td>\n",
       "      <td>9999</td>\n",
       "      <td>3</td>\n",
       "      <td>0</td>\n",
       "      <td>-1</td>\n",
       "      <td>-4</td>\n",
       "      <td>3913656</td>\n",
       "      <td>1000</td>\n",
       "    </tr>\n",
       "    <tr>\n",
       "      <th>602883</th>\n",
       "      <td>q_learning</td>\n",
       "      <td>3</td>\n",
       "      <td>2</td>\n",
       "      <td>9999</td>\n",
       "      <td>4</td>\n",
       "      <td>3</td>\n",
       "      <td>-1</td>\n",
       "      <td>-5</td>\n",
       "      <td>3913656</td>\n",
       "      <td>1000</td>\n",
       "    </tr>\n",
       "    <tr>\n",
       "      <th>602884</th>\n",
       "      <td>q_learning</td>\n",
       "      <td>3</td>\n",
       "      <td>3</td>\n",
       "      <td>9999</td>\n",
       "      <td>5</td>\n",
       "      <td>0</td>\n",
       "      <td>1000</td>\n",
       "      <td>995</td>\n",
       "      <td>3913656</td>\n",
       "      <td>1000</td>\n",
       "    </tr>\n",
       "  </tbody>\n",
       "</table>\n",
       "<p>1107 rows × 10 columns</p>\n",
       "</div>"
      ],
      "text/plain": [
       "         algo_name  x_agent_position  y_agent_position   run  step  action  \\\n",
       "70143       random                 0                 0  9980     0       2   \n",
       "70144       random                 0                 0  9980     1       2   \n",
       "70145       random                 0                 0  9980     2       1   \n",
       "70146       random                 0                 1  9980     3       0   \n",
       "70147       random                 0                 1  9980     4       2   \n",
       "...            ...               ...               ...   ...   ...     ...   \n",
       "602880  q_learning                 1                 1  9999     1       3   \n",
       "602881  q_learning                 2                 1  9999     2       3   \n",
       "602882  q_learning                 2                 2  9999     3       0   \n",
       "602883  q_learning                 3                 2  9999     4       3   \n",
       "602884  q_learning                 3                 3  9999     5       0   \n",
       "\n",
       "        reward  run_reward  total_reward  biggest_reward  \n",
       "70143       -1          -1             0               0  \n",
       "70144       -1          -2             0               0  \n",
       "70145       -1          -3             0               0  \n",
       "70146       -1          -4             0               0  \n",
       "70147       -1          -5             0               0  \n",
       "...        ...         ...           ...             ...  \n",
       "602880      -1          -2       3913656            1000  \n",
       "602881      -1          -3       3913656            1000  \n",
       "602882      -1          -4       3913656            1000  \n",
       "602883      -1          -5       3913656            1000  \n",
       "602884    1000         995       3913656            1000  \n",
       "\n",
       "[1107 rows x 10 columns]"
      ]
     },
     "execution_count": 106,
     "metadata": {},
     "output_type": "execute_result"
    }
   ],
   "source": [
    "df = df[df.run >= 9980] #last 20 runs\n",
    "#df.value_counts(df.algo_name)\n",
    "df"
   ]
  },
  {
   "cell_type": "code",
   "execution_count": 107,
   "metadata": {},
   "outputs": [
    {
     "data": {
      "text/html": [
       "<div>\n",
       "<style scoped>\n",
       "    .dataframe tbody tr th:only-of-type {\n",
       "        vertical-align: middle;\n",
       "    }\n",
       "\n",
       "    .dataframe tbody tr th {\n",
       "        vertical-align: top;\n",
       "    }\n",
       "\n",
       "    .dataframe thead th {\n",
       "        text-align: right;\n",
       "    }\n",
       "</style>\n",
       "<table border=\"1\" class=\"dataframe\">\n",
       "  <thead>\n",
       "    <tr style=\"text-align: right;\">\n",
       "      <th></th>\n",
       "      <th>x_agent_position</th>\n",
       "      <th>y_agent_position</th>\n",
       "      <th>step</th>\n",
       "      <th>action</th>\n",
       "      <th>reward</th>\n",
       "    </tr>\n",
       "  </thead>\n",
       "  <tbody>\n",
       "    <tr>\n",
       "      <th>70143</th>\n",
       "      <td>0</td>\n",
       "      <td>0</td>\n",
       "      <td>0</td>\n",
       "      <td>2</td>\n",
       "      <td>-1</td>\n",
       "    </tr>\n",
       "    <tr>\n",
       "      <th>70144</th>\n",
       "      <td>0</td>\n",
       "      <td>0</td>\n",
       "      <td>1</td>\n",
       "      <td>2</td>\n",
       "      <td>-1</td>\n",
       "    </tr>\n",
       "    <tr>\n",
       "      <th>70145</th>\n",
       "      <td>0</td>\n",
       "      <td>0</td>\n",
       "      <td>2</td>\n",
       "      <td>1</td>\n",
       "      <td>-1</td>\n",
       "    </tr>\n",
       "    <tr>\n",
       "      <th>70146</th>\n",
       "      <td>0</td>\n",
       "      <td>1</td>\n",
       "      <td>3</td>\n",
       "      <td>0</td>\n",
       "      <td>-1</td>\n",
       "    </tr>\n",
       "    <tr>\n",
       "      <th>70147</th>\n",
       "      <td>0</td>\n",
       "      <td>1</td>\n",
       "      <td>4</td>\n",
       "      <td>2</td>\n",
       "      <td>-1</td>\n",
       "    </tr>\n",
       "    <tr>\n",
       "      <th>...</th>\n",
       "      <td>...</td>\n",
       "      <td>...</td>\n",
       "      <td>...</td>\n",
       "      <td>...</td>\n",
       "      <td>...</td>\n",
       "    </tr>\n",
       "    <tr>\n",
       "      <th>602880</th>\n",
       "      <td>1</td>\n",
       "      <td>1</td>\n",
       "      <td>1</td>\n",
       "      <td>3</td>\n",
       "      <td>-1</td>\n",
       "    </tr>\n",
       "    <tr>\n",
       "      <th>602881</th>\n",
       "      <td>2</td>\n",
       "      <td>1</td>\n",
       "      <td>2</td>\n",
       "      <td>3</td>\n",
       "      <td>-1</td>\n",
       "    </tr>\n",
       "    <tr>\n",
       "      <th>602882</th>\n",
       "      <td>2</td>\n",
       "      <td>2</td>\n",
       "      <td>3</td>\n",
       "      <td>0</td>\n",
       "      <td>-1</td>\n",
       "    </tr>\n",
       "    <tr>\n",
       "      <th>602883</th>\n",
       "      <td>3</td>\n",
       "      <td>2</td>\n",
       "      <td>4</td>\n",
       "      <td>3</td>\n",
       "      <td>-1</td>\n",
       "    </tr>\n",
       "    <tr>\n",
       "      <th>602884</th>\n",
       "      <td>3</td>\n",
       "      <td>3</td>\n",
       "      <td>5</td>\n",
       "      <td>0</td>\n",
       "      <td>1000</td>\n",
       "    </tr>\n",
       "  </tbody>\n",
       "</table>\n",
       "<p>1107 rows × 5 columns</p>\n",
       "</div>"
      ],
      "text/plain": [
       "        x_agent_position  y_agent_position  step  action  reward\n",
       "70143                  0                 0     0       2      -1\n",
       "70144                  0                 0     1       2      -1\n",
       "70145                  0                 0     2       1      -1\n",
       "70146                  0                 1     3       0      -1\n",
       "70147                  0                 1     4       2      -1\n",
       "...                  ...               ...   ...     ...     ...\n",
       "602880                 1                 1     1       3      -1\n",
       "602881                 2                 1     2       3      -1\n",
       "602882                 2                 2     3       0      -1\n",
       "602883                 3                 2     4       3      -1\n",
       "602884                 3                 3     5       0    1000\n",
       "\n",
       "[1107 rows x 5 columns]"
      ]
     },
     "execution_count": 107,
     "metadata": {},
     "output_type": "execute_result"
    }
   ],
   "source": [
    "#data filtering\n",
    "proj_data = df.drop(columns=['algo_name','run','run_reward','total_reward','biggest_reward'])\n",
    "proj_data"
   ]
  },
  {
   "cell_type": "code",
   "execution_count": 108,
   "metadata": {},
   "outputs": [
    {
     "data": {
      "text/plain": [
       "(1107, 2)"
      ]
     },
     "execution_count": 108,
     "metadata": {},
     "output_type": "execute_result"
    }
   ],
   "source": [
    "tsne_coords = manifold.TSNE(perplexity=15, n_iter=250, n_jobs=10).fit_transform(proj_data)\n",
    "tsne_coords.shape"
   ]
  },
  {
   "cell_type": "code",
   "execution_count": 109,
   "metadata": {},
   "outputs": [
    {
     "data": {
      "text/html": [
       "<div>\n",
       "<style scoped>\n",
       "    .dataframe tbody tr th:only-of-type {\n",
       "        vertical-align: middle;\n",
       "    }\n",
       "\n",
       "    .dataframe tbody tr th {\n",
       "        vertical-align: top;\n",
       "    }\n",
       "\n",
       "    .dataframe thead th {\n",
       "        text-align: right;\n",
       "    }\n",
       "</style>\n",
       "<table border=\"1\" class=\"dataframe\">\n",
       "  <thead>\n",
       "    <tr style=\"text-align: right;\">\n",
       "      <th></th>\n",
       "      <th>X</th>\n",
       "      <th>Y</th>\n",
       "    </tr>\n",
       "  </thead>\n",
       "  <tbody>\n",
       "    <tr>\n",
       "      <th>count</th>\n",
       "      <td>1107.000000</td>\n",
       "      <td>1107.000000</td>\n",
       "    </tr>\n",
       "    <tr>\n",
       "      <th>mean</th>\n",
       "      <td>-0.033318</td>\n",
       "      <td>0.024067</td>\n",
       "    </tr>\n",
       "    <tr>\n",
       "      <th>std</th>\n",
       "      <td>2.540836</td>\n",
       "      <td>3.236808</td>\n",
       "    </tr>\n",
       "    <tr>\n",
       "      <th>min</th>\n",
       "      <td>-5.658853</td>\n",
       "      <td>-5.267077</td>\n",
       "    </tr>\n",
       "    <tr>\n",
       "      <th>25%</th>\n",
       "      <td>-1.828208</td>\n",
       "      <td>-2.925067</td>\n",
       "    </tr>\n",
       "    <tr>\n",
       "      <th>50%</th>\n",
       "      <td>-0.000587</td>\n",
       "      <td>0.597110</td>\n",
       "    </tr>\n",
       "    <tr>\n",
       "      <th>75%</th>\n",
       "      <td>1.967604</td>\n",
       "      <td>2.465583</td>\n",
       "    </tr>\n",
       "    <tr>\n",
       "      <th>max</th>\n",
       "      <td>5.080173</td>\n",
       "      <td>7.302924</td>\n",
       "    </tr>\n",
       "  </tbody>\n",
       "</table>\n",
       "</div>"
      ],
      "text/plain": [
       "                 X            Y\n",
       "count  1107.000000  1107.000000\n",
       "mean     -0.033318     0.024067\n",
       "std       2.540836     3.236808\n",
       "min      -5.658853    -5.267077\n",
       "25%      -1.828208    -2.925067\n",
       "50%      -0.000587     0.597110\n",
       "75%       1.967604     2.465583\n",
       "max       5.080173     7.302924"
      ]
     },
     "execution_count": 109,
     "metadata": {},
     "output_type": "execute_result"
    }
   ],
   "source": [
    "df_tsne_coords = pd.DataFrame(tsne_coords, columns=['X','Y'])\n",
    "df_tsne_coords.describe()"
   ]
  },
  {
   "cell_type": "code",
   "execution_count": 110,
   "metadata": {
    "pycharm": {
     "name": "#%%\n"
    }
   },
   "outputs": [
    {
     "data": {
      "text/html": [
       "\n",
       "<div id=\"altair-viz-41d966d5a9e547e6bcbf8d6b2234e47d\"></div>\n",
       "<script type=\"text/javascript\">\n",
       "  (function(spec, embedOpt){\n",
       "    let outputDiv = document.currentScript.previousElementSibling;\n",
       "    if (outputDiv.id !== \"altair-viz-41d966d5a9e547e6bcbf8d6b2234e47d\") {\n",
       "      outputDiv = document.getElementById(\"altair-viz-41d966d5a9e547e6bcbf8d6b2234e47d\");\n",
       "    }\n",
       "    const paths = {\n",
       "      \"vega\": \"https://cdn.jsdelivr.net/npm//vega@5?noext\",\n",
       "      \"vega-lib\": \"https://cdn.jsdelivr.net/npm//vega-lib?noext\",\n",
       "      \"vega-lite\": \"https://cdn.jsdelivr.net/npm//vega-lite@4.8.1?noext\",\n",
       "      \"vega-embed\": \"https://cdn.jsdelivr.net/npm//vega-embed@6?noext\",\n",
       "    };\n",
       "\n",
       "    function loadScript(lib) {\n",
       "      return new Promise(function(resolve, reject) {\n",
       "        var s = document.createElement('script');\n",
       "        s.src = paths[lib];\n",
       "        s.async = true;\n",
       "        s.onload = () => resolve(paths[lib]);\n",
       "        s.onerror = () => reject(`Error loading script: ${paths[lib]}`);\n",
       "        document.getElementsByTagName(\"head\")[0].appendChild(s);\n",
       "      });\n",
       "    }\n",
       "\n",
       "    function showError(err) {\n",
       "      outputDiv.innerHTML = `<div class=\"error\" style=\"color:red;\">${err}</div>`;\n",
       "      throw err;\n",
       "    }\n",
       "\n",
       "    function displayChart(vegaEmbed) {\n",
       "      vegaEmbed(outputDiv, spec, embedOpt)\n",
       "        .catch(err => showError(`Javascript Error: ${err.message}<br>This usually means there's a typo in your chart specification. See the javascript console for the full traceback.`));\n",
       "    }\n",
       "\n",
       "    if(typeof define === \"function\" && define.amd) {\n",
       "      requirejs.config({paths});\n",
       "      require([\"vega-embed\"], displayChart, err => showError(`Error loading script: ${err.message}`));\n",
       "    } else if (typeof vegaEmbed === \"function\") {\n",
       "      displayChart(vegaEmbed);\n",
       "    } else {\n",
       "      loadScript(\"vega\")\n",
       "        .then(() => loadScript(\"vega-lite\"))\n",
       "        .then(() => loadScript(\"vega-embed\"))\n",
       "        .catch(showError)\n",
       "        .then(() => displayChart(vegaEmbed));\n",
       "    }\n",
       "  })({\"config\": {\"view\": {\"continuousWidth\": 400, \"continuousHeight\": 300}}, \"data\": {\"name\": \"data-4bb4552d8564695096a203100e89e711\"}, \"mark\": {\"type\": \"circle\", \"opacity\": 0.7}, \"encoding\": {\"x\": {\"type\": \"quantitative\", \"field\": \"X\"}, \"y\": {\"type\": \"quantitative\", \"field\": \"Y\"}}, \"height\": 400, \"selection\": {\"selector023\": {\"type\": \"interval\", \"bind\": \"scales\", \"encodings\": [\"x\", \"y\"]}}, \"title\": \"Projected Last 20 Run States\", \"width\": 500, \"$schema\": \"https://vega.github.io/schema/vega-lite/v4.8.1.json\", \"datasets\": {\"data-4bb4552d8564695096a203100e89e711\": [{\"X\": -3.4983508586883545, \"Y\": 2.504544496536255}, {\"X\": -3.2543907165527344, \"Y\": 2.4838171005249023}, {\"X\": -2.8365488052368164, \"Y\": 2.2305541038513184}, {\"X\": -2.2812399864196777, \"Y\": 1.6785690784454346}, {\"X\": -1.7689076662063599, \"Y\": 2.7599172592163086}, {\"X\": -1.0178394317626953, \"Y\": 3.3703598976135254}, {\"X\": -0.6507706642150879, \"Y\": 3.3194446563720703}, {\"X\": 0.5588593482971191, \"Y\": 7.093563556671143}, {\"X\": -4.9652557373046875, \"Y\": 3.7265663146972656}, {\"X\": -2.981757164001465, \"Y\": 2.1970407962799072}, {\"X\": 0.6214285492897034, \"Y\": 7.152041912078857}, {\"X\": -4.901733875274658, \"Y\": 3.6816530227661133}, {\"X\": -3.1406681537628174, \"Y\": 1.0022048950195312}, {\"X\": -2.657273054122925, \"Y\": 2.162508010864258}, {\"X\": -2.2193257808685303, \"Y\": 2.58091139793396}, {\"X\": -1.6119582653045654, \"Y\": 2.476417303085327}, {\"X\": -1.2071774005889893, \"Y\": 2.4956696033477783}, {\"X\": -0.6887088418006897, \"Y\": 3.069446325302124}, {\"X\": -0.711847186088562, \"Y\": 2.223484516143799}, {\"X\": 0.029658880084753036, \"Y\": 2.6703662872314453}, {\"X\": 0.37098389863967896, \"Y\": 2.512737989425659}, {\"X\": 0.6240019202232361, \"Y\": 7.087005138397217}, {\"X\": -4.926387310028076, \"Y\": 3.752751350402832}, {\"X\": -3.1357474327087402, \"Y\": 1.0027189254760742}, {\"X\": -2.6631054878234863, \"Y\": 2.1740572452545166}, {\"X\": -2.3337435722351074, \"Y\": 2.228729724884033}, {\"X\": -1.5238996744155884, \"Y\": 2.069326400756836}, {\"X\": -0.8634282946586609, \"Y\": 3.478083610534668}, {\"X\": -0.6944402456283569, \"Y\": 2.838222026824951}, {\"X\": -0.342529833316803, \"Y\": 3.186777114868164}, {\"X\": 0.5924744606018066, \"Y\": 7.066950798034668}, {\"X\": -3.500243902206421, \"Y\": 0.5990256667137146}, {\"X\": -3.228092670440674, \"Y\": 2.379758358001709}, {\"X\": -4.600052833557129, \"Y\": 4.041351795196533}, {\"X\": 0.4708544611930847, \"Y\": 6.9126482009887695}, {\"X\": -4.924126625061035, \"Y\": 3.7772865295410156}, {\"X\": 0.6005637645721436, \"Y\": 7.057905673980713}, {\"X\": -3.692084312438965, \"Y\": 2.5029451847076416}, {\"X\": -3.1630845069885254, \"Y\": 2.29692006111145}, {\"X\": -2.7336528301239014, \"Y\": 1.4323277473449707}, {\"X\": 0.6132388114929199, \"Y\": 7.184269428253174}, {\"X\": -3.49684739112854, \"Y\": 0.5983430743217468}, {\"X\": -3.1643834114074707, \"Y\": 2.528388500213623}, {\"X\": -4.615858554840088, \"Y\": 4.170876979827881}, {\"X\": 0.5430616140365601, \"Y\": 7.056163787841797}, {\"X\": -3.507939338684082, \"Y\": 0.5981399416923523}, {\"X\": -3.17144513130188, \"Y\": 2.5315871238708496}, {\"X\": -2.5709896087646484, \"Y\": 2.3293142318725586}, {\"X\": -2.1051995754241943, \"Y\": 2.582641363143921}, {\"X\": -1.2347248792648315, \"Y\": 3.3887503147125244}, {\"X\": -1.2183222770690918, \"Y\": 2.10837984085083}, {\"X\": -0.6470211148262024, \"Y\": 3.3333444595336914}, {\"X\": -0.669334352016449, \"Y\": 2.2273967266082764}, {\"X\": 0.6970269083976746, \"Y\": 7.068404674530029}, {\"X\": -4.908726692199707, \"Y\": 3.7894749641418457}, {\"X\": -3.2417168617248535, \"Y\": 2.472623825073242}, {\"X\": -2.7347207069396973, \"Y\": 1.4354181289672852}, {\"X\": -2.2831838130950928, \"Y\": 2.458726167678833}, {\"X\": -1.238929033279419, \"Y\": 3.414336681365967}, {\"X\": 0.5817484259605408, \"Y\": 7.202326774597168}, {\"X\": -3.4964873790740967, \"Y\": 2.4978346824645996}, {\"X\": -3.3289437294006348, \"Y\": 2.4941890239715576}, {\"X\": -2.902027130126953, \"Y\": 2.2094058990478516}, {\"X\": -1.5476555824279785, \"Y\": 3.4231698513031006}, {\"X\": -1.8303457498550415, \"Y\": 2.317970037460327}, {\"X\": -1.2588093280792236, \"Y\": 2.3955352306365967}, {\"X\": -0.8827890157699585, \"Y\": 2.210495948791504}, {\"X\": 0.5468513369560242, \"Y\": 7.095996856689453}, {\"X\": -3.4946696758270264, \"Y\": 0.592199981212616}, {\"X\": -4.898197650909424, \"Y\": 3.9113657474517822}, {\"X\": -2.656665086746216, \"Y\": 2.1978514194488525}, {\"X\": 0.48353952169418335, \"Y\": 7.037301063537598}, {\"X\": -3.499197483062744, \"Y\": 0.5733873248100281}, {\"X\": -4.90235710144043, \"Y\": 4.021092414855957}, {\"X\": -2.649749755859375, \"Y\": 2.229515314102173}, {\"X\": -2.1298131942749023, \"Y\": 2.6320557594299316}, {\"X\": -1.2592878341674805, \"Y\": 3.4161064624786377}, {\"X\": 0.5639448761940002, \"Y\": 6.889361381530762}, {\"X\": -3.257150411605835, \"Y\": 2.5123043060302734}, {\"X\": -3.216625928878784, \"Y\": 0.8978838324546814}, {\"X\": -4.63448429107666, \"Y\": 4.1490478515625}, {\"X\": -2.3522419929504395, \"Y\": 2.2445526123046875}, {\"X\": -1.5292837619781494, \"Y\": 1.959023118019104}, {\"X\": -1.2307686805725098, \"Y\": 2.817227363586426}, {\"X\": 0.5034506320953369, \"Y\": 7.045469284057617}, {\"X\": -3.498652219772339, \"Y\": 0.5944122076034546}, {\"X\": -2.9880735874176025, \"Y\": 2.3576455116271973}, {\"X\": -2.741881847381592, \"Y\": 1.4276612997055054}, {\"X\": -2.301412343978882, \"Y\": 2.3068339824676514}, {\"X\": -1.6153905391693115, \"Y\": 2.3777225017547607}, {\"X\": -1.333319902420044, \"Y\": 2.5880656242370605}, {\"X\": -0.6785553097724915, \"Y\": 3.2178640365600586}, {\"X\": 0.5386603474617004, \"Y\": 7.074020862579346}, {\"X\": -3.446044445037842, \"Y\": 2.4978833198547363}, {\"X\": -4.920396327972412, \"Y\": 4.048113822937012}, {\"X\": 0.5402331352233887, \"Y\": 7.185405731201172}, {\"X\": -3.498652219772339, \"Y\": 0.5944122076034546}, {\"X\": 0.6620759963989258, \"Y\": 7.044818878173828}, {\"X\": -3.4889163970947266, \"Y\": 2.497872829437256}, {\"X\": -3.2769298553466797, \"Y\": 2.3162314891815186}, {\"X\": -2.6836493015289307, \"Y\": 2.2343482971191406}, {\"X\": -1.539289116859436, \"Y\": 3.4246339797973633}, {\"X\": 0.8816100358963013, \"Y\": 7.148079872131348}, {\"X\": -4.906821250915527, \"Y\": 3.7767298221588135}, {\"X\": 0.6307461857795715, \"Y\": 7.005788803100586}, {\"X\": -3.4813232421875, \"Y\": 2.4749386310577393}, {\"X\": -3.1693015098571777, \"Y\": 2.215437650680542}, {\"X\": -2.7562332153320312, \"Y\": 1.4170645475387573}, {\"X\": -2.13931941986084, \"Y\": 2.6422839164733887}, {\"X\": 0.6643799543380737, \"Y\": 6.946902275085449}, {\"X\": -3.4104971885681152, \"Y\": 2.441904067993164}, {\"X\": -3.2326948642730713, \"Y\": 2.4980146884918213}, {\"X\": -2.753418445587158, \"Y\": 1.4570810794830322}, {\"X\": -2.1334660053253174, \"Y\": 2.647799015045166}, {\"X\": -1.7879828214645386, \"Y\": 2.634505033493042}, {\"X\": -0.8530994653701782, \"Y\": 3.372215986251831}, {\"X\": -0.8062849044799805, \"Y\": 2.8130643367767334}, {\"X\": -0.3932427167892456, \"Y\": 2.550140857696533}, {\"X\": 0.082726389169693, \"Y\": 2.890559673309326}, {\"X\": 0.4232066869735718, \"Y\": 2.469888210296631}, {\"X\": 1.0727757215499878, \"Y\": 2.327660322189331}, {\"X\": 1.0530942678451538, \"Y\": 2.1338579654693604}, {\"X\": 1.407172679901123, \"Y\": 2.2355496883392334}, {\"X\": 1.618506908416748, \"Y\": 1.896958827972412}, {\"X\": 1.8404350280761719, \"Y\": 1.8520041704177856}, {\"X\": 4.0424628257751465, \"Y\": 5.290170192718506}, {\"X\": -3.494607925415039, \"Y\": 0.5870968103408813}, {\"X\": -3.1255850791931152, \"Y\": 2.413928270339966}, {\"X\": -2.7364208698272705, \"Y\": 1.3956634998321533}, {\"X\": -2.1066057682037354, \"Y\": 2.380524158477783}, {\"X\": -1.6308023929595947, \"Y\": 1.9987473487854004}, {\"X\": -1.2076053619384766, \"Y\": 2.5560030937194824}, {\"X\": -0.8683192729949951, \"Y\": 2.505481243133545}, {\"X\": -0.43076181411743164, \"Y\": 3.0728683471679688}, {\"X\": -0.0005868971347808838, \"Y\": 2.506709575653076}, {\"X\": 0.24984920024871826, \"Y\": 2.491900682449341}, {\"X\": 0.7604308128356934, \"Y\": 2.2649741172790527}, {\"X\": 1.2157009840011597, \"Y\": 2.1618497371673584}, {\"X\": 1.2397077083587646, \"Y\": 2.06327223777771}, {\"X\": 1.625753402709961, \"Y\": 1.8984756469726562}, {\"X\": 1.9543792009353638, \"Y\": 1.7360670566558838}, {\"X\": 2.2587125301361084, \"Y\": 1.6601998805999756}, {\"X\": 2.2998077869415283, \"Y\": 1.1949410438537598}, {\"X\": 2.446552276611328, \"Y\": 1.1035690307617188}, {\"X\": 2.503685235977173, \"Y\": 0.8875488638877869}, {\"X\": 2.483450412750244, \"Y\": 0.5877593159675598}, {\"X\": 2.715656280517578, \"Y\": 0.17653124034404755}, {\"X\": 2.5832126140594482, \"Y\": 0.04598653316497803}, {\"X\": 2.5068652629852295, \"Y\": -0.24156562983989716}, {\"X\": 2.4286911487579346, \"Y\": -0.49889636039733887}, {\"X\": 2.2482011318206787, \"Y\": -0.789852499961853}, {\"X\": 2.1051323413848877, \"Y\": -0.9484480619430542}, {\"X\": 1.7774407863616943, \"Y\": -1.1909806728363037}, {\"X\": 1.86361563205719, \"Y\": -1.1828569173812866}, {\"X\": 4.156865119934082, \"Y\": 5.394504547119141}, {\"X\": -4.922877311706543, \"Y\": 3.8083221912384033}, {\"X\": -3.1626553535461426, \"Y\": 2.4284770488739014}, {\"X\": -2.6948037147521973, \"Y\": 2.4763309955596924}, {\"X\": -2.2857470512390137, \"Y\": 2.316654682159424}, {\"X\": -1.220887541770935, \"Y\": 3.407015800476074}, {\"X\": -1.1747698783874512, \"Y\": 2.5922558307647705}, {\"X\": -0.670669436454773, \"Y\": 3.2860000133514404}, {\"X\": -0.457372784614563, \"Y\": 2.4355688095092773}, {\"X\": -0.06325308978557587, \"Y\": 2.543941020965576}, {\"X\": 0.35918599367141724, \"Y\": 2.396409034729004}, {\"X\": 0.7442262768745422, \"Y\": 2.543229579925537}, {\"X\": 1.0906480550765991, \"Y\": 2.214466094970703}, {\"X\": 1.2938685417175293, \"Y\": 2.192946434020996}, {\"X\": 1.6522434949874878, \"Y\": 1.9163544178009033}, {\"X\": 1.9156283140182495, \"Y\": 1.749082326889038}, {\"X\": 2.0828170776367188, \"Y\": 1.6213138103485107}, {\"X\": 2.3047351837158203, \"Y\": 1.1955811977386475}, {\"X\": 2.4220011234283447, \"Y\": 1.040183186531067}, {\"X\": 2.382495164871216, \"Y\": 1.0427403450012207}, {\"X\": 2.5950939655303955, \"Y\": 0.7035564184188843}, {\"X\": 2.541060209274292, \"Y\": 0.32505908608436584}, {\"X\": 2.6004831790924072, \"Y\": 0.024541594088077545}, {\"X\": 2.4952497482299805, \"Y\": -0.2886265218257904}, {\"X\": 2.41784405708313, \"Y\": -0.021419763565063477}, {\"X\": 2.2534942626953125, \"Y\": -0.7633305788040161}, {\"X\": 2.1127922534942627, \"Y\": -0.8377118706703186}, {\"X\": 1.8381271362304688, \"Y\": -0.9155650734901428}, {\"X\": 1.7503349781036377, \"Y\": -1.2016456127166748}, {\"X\": 1.4826635122299194, \"Y\": -1.4078893661499023}, {\"X\": 1.3376538753509521, \"Y\": -1.5477546453475952}, {\"X\": 0.9587182998657227, \"Y\": -1.4068374633789062}, {\"X\": 0.6660500764846802, \"Y\": -1.628717064857483}, {\"X\": 0.16884657740592957, \"Y\": -1.847213625907898}, {\"X\": 0.1929963231086731, \"Y\": -1.841958999633789}, {\"X\": -0.17357295751571655, \"Y\": -1.966535210609436}, {\"X\": -0.26351380348205566, \"Y\": -1.9661890268325806}, {\"X\": -0.573039710521698, \"Y\": -1.987067461013794}, {\"X\": -0.8283491134643555, \"Y\": -2.2472856044769287}, {\"X\": -1.0233094692230225, \"Y\": -2.218825101852417}, {\"X\": -1.2700340747833252, \"Y\": -2.337413787841797}, {\"X\": -1.4930906295776367, \"Y\": -2.4998974800109863}, {\"X\": -1.6038326025009155, \"Y\": -2.663889169692993}, {\"X\": -1.8205426931381226, \"Y\": -2.9148805141448975}, {\"X\": -1.8859719038009644, \"Y\": -3.107051134109497}, {\"X\": -2.0525970458984375, \"Y\": -3.281679630279541}, {\"X\": -2.0250601768493652, \"Y\": -3.47542142868042}, {\"X\": -2.02177357673645, \"Y\": -3.674898624420166}, {\"X\": -2.0935935974121094, \"Y\": -3.7810325622558594}, {\"X\": -1.9497790336608887, \"Y\": -3.8460333347320557}, {\"X\": -1.8329277038574219, \"Y\": -4.204812526702881}, {\"X\": -1.7879506349563599, \"Y\": -4.226705551147461}, {\"X\": -1.5755480527877808, \"Y\": -4.514122486114502}, {\"X\": -1.4444479942321777, \"Y\": -4.618818283081055}, {\"X\": -1.3529537916183472, \"Y\": -4.684791088104248}, {\"X\": -1.1656049489974976, \"Y\": -4.8006815910339355}, {\"X\": -0.9816750288009644, \"Y\": -4.917821884155273}, {\"X\": -0.7700302600860596, \"Y\": -4.968007564544678}, {\"X\": 4.148160457611084, \"Y\": 5.301103115081787}, {\"X\": -4.923361778259277, \"Y\": 3.744590997695923}, {\"X\": -3.1400210857391357, \"Y\": 1.0064090490341187}, {\"X\": -4.275595188140869, \"Y\": 4.598999977111816}, {\"X\": -5.5704731941223145, \"Y\": -1.9429038763046265}, {\"X\": -0.9458513855934143, \"Y\": 4.490309715270996}, {\"X\": 4.174221992492676, \"Y\": 5.1843132972717285}, {\"X\": -5.044979095458984, \"Y\": 3.764989137649536}, {\"X\": -3.1696598529815674, \"Y\": 2.578807830810547}, {\"X\": -2.7467076778411865, \"Y\": 2.2163004875183105}, {\"X\": -2.164928913116455, \"Y\": 2.570512294769287}, {\"X\": -1.2479296922683716, \"Y\": 3.4108011722564697}, {\"X\": -1.2630105018615723, \"Y\": 2.445794105529785}, {\"X\": -0.8197535872459412, \"Y\": 2.6191141605377197}, {\"X\": -0.5383875966072083, \"Y\": 2.2882332801818848}, {\"X\": 0.13178350031375885, \"Y\": 2.6334481239318848}, {\"X\": 0.43634283542633057, \"Y\": 2.2401316165924072}, {\"X\": 0.8338316082954407, \"Y\": 2.2192904949188232}, {\"X\": 1.196109414100647, \"Y\": 2.3349368572235107}, {\"X\": 1.4302266836166382, \"Y\": 2.005507230758667}, {\"X\": 1.671517014503479, \"Y\": 1.914162278175354}, {\"X\": 1.804783821105957, \"Y\": 1.7295798063278198}, {\"X\": 2.002410888671875, \"Y\": 1.718230128288269}, {\"X\": 4.13545036315918, \"Y\": 5.292720794677734}, {\"X\": -3.4977781772613525, \"Y\": 0.5987767577171326}, {\"X\": -3.265887975692749, \"Y\": 2.3791279792785645}, {\"X\": -2.715754508972168, \"Y\": 2.476205587387085}, {\"X\": -2.1242172718048096, \"Y\": 2.883666753768921}, {\"X\": -1.637811541557312, \"Y\": 2.0025124549865723}, {\"X\": -1.2606903314590454, \"Y\": 2.5020415782928467}, {\"X\": -0.6746147871017456, \"Y\": 3.206786870956421}, {\"X\": -0.5223480463027954, \"Y\": 2.2995245456695557}, {\"X\": 0.09650163352489471, \"Y\": 2.859020948410034}, {\"X\": 0.8172850608825684, \"Y\": 2.2173852920532227}, {\"X\": 0.8869418501853943, \"Y\": 2.2538204193115234}, {\"X\": 1.260138988494873, \"Y\": 2.086758852005005}, {\"X\": 1.4901310205459595, \"Y\": 2.0028443336486816}, {\"X\": 1.6332738399505615, \"Y\": 1.9193817377090454}, {\"X\": 1.8089337348937988, \"Y\": 1.7601453065872192}, {\"X\": 2.004037618637085, \"Y\": 1.5643689632415771}, {\"X\": 2.2263760566711426, \"Y\": 1.3980358839035034}, {\"X\": 2.387624740600586, \"Y\": 1.0769022703170776}, {\"X\": 2.4968879222869873, \"Y\": 0.8274106979370117}, {\"X\": 2.527041435241699, \"Y\": 0.7263073921203613}, {\"X\": 2.5567827224731445, \"Y\": 0.21914276480674744}, {\"X\": 4.131598472595215, \"Y\": 5.233870506286621}, {\"X\": -3.5543646812438965, \"Y\": 2.4839069843292236}, {\"X\": -4.858165264129639, \"Y\": 3.930192708969116}, {\"X\": -2.6797263622283936, \"Y\": 2.5138869285583496}, {\"X\": -1.9683568477630615, \"Y\": 2.5587873458862305}, {\"X\": -1.247156023979187, \"Y\": 3.396211862564087}, {\"X\": -1.2558640241622925, \"Y\": 2.6407878398895264}, {\"X\": -0.7048752903938293, \"Y\": 3.2039802074432373}, {\"X\": -0.3422618508338928, \"Y\": 2.709282159805298}, {\"X\": 0.016371581703424454, \"Y\": 2.539891004562378}, {\"X\": 0.40708446502685547, \"Y\": 2.6398346424102783}, {\"X\": 0.8277774453163147, \"Y\": 2.3924922943115234}, {\"X\": 1.0290377140045166, \"Y\": 2.2392168045043945}, {\"X\": 1.348399043083191, \"Y\": 2.1450841426849365}, {\"X\": 1.6076728105545044, \"Y\": 2.039114475250244}, {\"X\": 1.7847079038619995, \"Y\": 1.8389956951141357}, {\"X\": 1.952505350112915, \"Y\": 1.402591586112976}, {\"X\": 2.3827693462371826, \"Y\": 1.444852590560913}, {\"X\": 2.3126168251037598, \"Y\": 1.1570415496826172}, {\"X\": 2.50321102142334, \"Y\": 0.6580199003219604}, {\"X\": 2.550889492034912, \"Y\": 0.6998302936553955}, {\"X\": 2.5413520336151123, \"Y\": 0.6905497908592224}, {\"X\": 2.626000165939331, \"Y\": -0.04994465038180351}, {\"X\": 2.497262716293335, \"Y\": -0.26301196217536926}, {\"X\": 2.3197474479675293, \"Y\": -0.6573761701583862}, {\"X\": 2.234210968017578, \"Y\": -0.8431764841079712}, {\"X\": 2.069220542907715, \"Y\": -1.0467524528503418}, {\"X\": 1.8493188619613647, \"Y\": -1.1052758693695068}, {\"X\": 1.5697238445281982, \"Y\": -1.379125714302063}, {\"X\": 1.3671282529830933, \"Y\": -1.4309160709381104}, {\"X\": 1.1818102598190308, \"Y\": -1.5141628980636597}, {\"X\": 0.9464422464370728, \"Y\": -1.6307600736618042}, {\"X\": 0.8840550184249878, \"Y\": -1.7765897512435913}, {\"X\": 0.46765047311782837, \"Y\": -1.923255443572998}, {\"X\": 0.18424788117408752, \"Y\": -1.9312981367111206}, {\"X\": -0.19428479671478271, \"Y\": -1.9661433696746826}, {\"X\": -0.4168848693370819, \"Y\": -1.9227237701416016}, {\"X\": -0.8058069944381714, \"Y\": -2.1407673358917236}, {\"X\": -0.8093494772911072, \"Y\": -2.1159908771514893}, {\"X\": -1.0683188438415527, \"Y\": -2.294044256210327}, {\"X\": -1.398182988166809, \"Y\": -2.407705783843994}, {\"X\": -1.5673949718475342, \"Y\": -2.5133097171783447}, {\"X\": -1.6590917110443115, \"Y\": -2.7093610763549805}, {\"X\": -1.8261682987213135, \"Y\": -2.8570663928985596}, {\"X\": -1.9361718893051147, \"Y\": -3.147954225540161}, {\"X\": -2.0376813411712646, \"Y\": -3.230797290802002}, {\"X\": -2.000474452972412, \"Y\": -3.4540209770202637}, {\"X\": -2.059554100036621, \"Y\": -3.7874112129211426}, {\"X\": -2.039904832839966, \"Y\": -3.7737553119659424}, {\"X\": 4.093318462371826, \"Y\": 5.308090686798096}, {\"X\": -5.032982349395752, \"Y\": 3.808377742767334}, {\"X\": -3.4271862506866455, \"Y\": 2.535863161087036}, {\"X\": -4.613789081573486, \"Y\": 4.011930465698242}, {\"X\": -2.148817777633667, \"Y\": 2.132134437561035}, {\"X\": -1.7800660133361816, \"Y\": 2.3537189960479736}, {\"X\": -1.4756011962890625, \"Y\": 2.3662314414978027}, {\"X\": -0.6134966611862183, \"Y\": 3.2926406860351562}, {\"X\": -0.34511035680770874, \"Y\": 2.7446722984313965}, {\"X\": 0.09026902914047241, \"Y\": 2.7592201232910156}, {\"X\": 0.4391443431377411, \"Y\": 2.4672837257385254}, {\"X\": 0.522956371307373, \"Y\": 2.2907915115356445}, {\"X\": 1.0905885696411133, \"Y\": 2.1780285835266113}, {\"X\": 1.2706453800201416, \"Y\": 2.1499335765838623}, {\"X\": 1.6292577981948853, \"Y\": 1.9016919136047363}, {\"X\": 1.8240687847137451, \"Y\": 1.7793936729431152}, {\"X\": 2.0728633403778076, \"Y\": 1.6207700967788696}, {\"X\": 2.178492307662964, \"Y\": 1.5086809396743774}, {\"X\": 2.3928072452545166, \"Y\": 1.070373296737671}, {\"X\": 2.4769794940948486, \"Y\": 0.8652215600013733}, {\"X\": 2.5311901569366455, \"Y\": 0.7443020343780518}, {\"X\": 2.552001953125, \"Y\": 0.4218539297580719}, {\"X\": 2.5943164825439453, \"Y\": 0.286208838224411}, {\"X\": 2.5018110275268555, \"Y\": -0.058963581919670105}, {\"X\": 4.1502685546875, \"Y\": 5.549076557159424}, {\"X\": -3.423186779022217, \"Y\": 2.4167914390563965}, {\"X\": -3.176784038543701, \"Y\": 2.338742733001709}, {\"X\": -4.607000350952148, \"Y\": 4.019773483276367}, {\"X\": -2.153303861618042, \"Y\": 2.652142286300659}, {\"X\": -1.6341854333877563, \"Y\": 2.0434277057647705}, {\"X\": -0.9405624270439148, \"Y\": 3.347339391708374}, {\"X\": -0.7814627885818481, \"Y\": 2.6799185276031494}, {\"X\": -0.42901766300201416, \"Y\": 2.6731555461883545}, {\"X\": 0.15406443178653717, \"Y\": 2.7420294284820557}, {\"X\": 0.725054144859314, \"Y\": 2.7084410190582275}, {\"X\": 0.8227385878562927, \"Y\": 2.439441442489624}, {\"X\": 1.1895338296890259, \"Y\": 2.3265156745910645}, {\"X\": 1.4670442342758179, \"Y\": 1.9917904138565063}, {\"X\": 1.6369743347167969, \"Y\": 1.915773868560791}, {\"X\": 1.817502737045288, \"Y\": 1.7512333393096924}, {\"X\": 2.1004228591918945, \"Y\": 1.5320168733596802}, {\"X\": 2.2389588356018066, \"Y\": 1.2986921072006226}, {\"X\": 2.2707183361053467, \"Y\": 1.3778643608093262}, {\"X\": 4.349782943725586, \"Y\": 5.304354667663574}, {\"X\": -3.5813615322113037, \"Y\": 2.497870683670044}, {\"X\": -4.7072319984436035, \"Y\": 3.881610870361328}, {\"X\": -2.861675500869751, \"Y\": 1.3283783197402954}, {\"X\": -2.1321494579315186, \"Y\": 2.6323928833007812}, {\"X\": -1.14093017578125, \"Y\": 3.459183931350708}, {\"X\": -1.2685463428497314, \"Y\": 2.389090061187744}, {\"X\": -0.8920414447784424, \"Y\": 2.203669309616089}, {\"X\": -0.44482114911079407, \"Y\": 2.4367477893829346}, {\"X\": 0.020497946068644524, \"Y\": 2.5837416648864746}, {\"X\": 0.5413787961006165, \"Y\": 2.288893461227417}, {\"X\": 0.7728637456893921, \"Y\": 2.4282455444335938}, {\"X\": 1.1519865989685059, \"Y\": 2.1926517486572266}, {\"X\": 1.3623442649841309, \"Y\": 2.197762966156006}, {\"X\": 1.6592563390731812, \"Y\": 1.870194911956787}, {\"X\": 1.9261975288391113, \"Y\": 1.7834768295288086}, {\"X\": 2.0676701068878174, \"Y\": 1.6522549390792847}, {\"X\": 2.2206013202667236, \"Y\": 1.3788418769836426}, {\"X\": 2.3311591148376465, \"Y\": 1.2655549049377441}, {\"X\": 2.5254528522491455, \"Y\": 0.8098852038383484}, {\"X\": 2.652280569076538, \"Y\": 0.5688315629959106}, {\"X\": 2.5947563648223877, \"Y\": 0.29058483242988586}, {\"X\": 2.5488998889923096, \"Y\": 0.011706136167049408}, {\"X\": 2.5112357139587402, \"Y\": -0.10900577902793884}, {\"X\": 2.3461475372314453, \"Y\": -0.44133618474006653}, {\"X\": 2.1894724369049072, \"Y\": -0.7537721395492554}, {\"X\": 2.0716588497161865, \"Y\": -0.9440378546714783}, {\"X\": 1.9004102945327759, \"Y\": -1.0430858135223389}, {\"X\": 1.7905397415161133, \"Y\": -1.0768386125564575}, {\"X\": 1.4662823677062988, \"Y\": -1.399227499961853}, {\"X\": 1.2160717248916626, \"Y\": -1.5042517185211182}, {\"X\": 0.9097918272018433, \"Y\": -1.6252644062042236}, {\"X\": 0.6275699734687805, \"Y\": -1.7456398010253906}, {\"X\": 0.42254263162612915, \"Y\": -1.792192816734314}, {\"X\": 0.15169821679592133, \"Y\": -1.8311618566513062}, {\"X\": 0.07916934788227081, \"Y\": -1.8788771629333496}, {\"X\": -0.3399232029914856, \"Y\": -1.992153286933899}, {\"X\": -0.5329048037528992, \"Y\": -1.7839770317077637}, {\"X\": -0.9305470585823059, \"Y\": -2.184269428253174}, {\"X\": -1.0802257061004639, \"Y\": -2.2463128566741943}, {\"X\": -1.3448768854141235, \"Y\": -2.3982925415039062}, {\"X\": -1.6063647270202637, \"Y\": -2.536825180053711}, {\"X\": -1.6031701564788818, \"Y\": -2.5885636806488037}, {\"X\": -1.8206095695495605, \"Y\": -2.8883841037750244}, {\"X\": -1.915865182876587, \"Y\": -3.2303693294525146}, {\"X\": -2.0171213150024414, \"Y\": -2.995959758758545}, {\"X\": -1.9392485618591309, \"Y\": -3.4042749404907227}, {\"X\": -2.0705182552337646, \"Y\": -3.6246771812438965}, {\"X\": -2.034536123275757, \"Y\": -3.8530242443084717}, {\"X\": -2.0081169605255127, \"Y\": -3.897139072418213}, {\"X\": 4.235841751098633, \"Y\": 5.304318904876709}, {\"X\": -3.4437389373779297, \"Y\": 2.4332528114318848}, {\"X\": -4.8801984786987305, \"Y\": 3.816409111022949}, {\"X\": -2.8404221534729004, \"Y\": 1.335221290588379}, {\"X\": -2.1281564235687256, \"Y\": 2.6416382789611816}, {\"X\": -1.7671505212783813, \"Y\": 2.3520851135253906}, {\"X\": -1.395352840423584, \"Y\": 2.088773250579834}, {\"X\": -0.8093541860580444, \"Y\": 2.674466609954834}, {\"X\": -0.4415513873100281, \"Y\": 2.2357053756713867}, {\"X\": 0.018645115196704865, \"Y\": 2.6372909545898438}, {\"X\": 0.30678847432136536, \"Y\": 2.490107536315918}, {\"X\": 0.7597646713256836, \"Y\": 2.1781113147735596}, {\"X\": 1.1057990789413452, \"Y\": 2.246825695037842}, {\"X\": 1.4928839206695557, \"Y\": 2.237785577774048}, {\"X\": 1.652518630027771, \"Y\": 1.8853195905685425}, {\"X\": 1.8922662734985352, \"Y\": 1.7806464433670044}, {\"X\": 2.0933797359466553, \"Y\": 1.6651310920715332}, {\"X\": 2.1911141872406006, \"Y\": 1.6472207307815552}, {\"X\": 2.3288958072662354, \"Y\": 1.273197889328003}, {\"X\": 2.5175833702087402, \"Y\": 0.8165408372879028}, {\"X\": 2.5925402641296387, \"Y\": 0.49784547090530396}, {\"X\": 2.6785888671875, \"Y\": 0.25323742628097534}, {\"X\": 2.3252575397491455, \"Y\": 0.008105333894491196}, {\"X\": 2.523334264755249, \"Y\": -0.33913305401802063}, {\"X\": 2.416781187057495, \"Y\": -0.5758845806121826}, {\"X\": 2.251487970352173, \"Y\": -0.7578096985816956}, {\"X\": 2.1217660903930664, \"Y\": -0.9594748616218567}, {\"X\": 1.8434194326400757, \"Y\": -1.153880000114441}, {\"X\": 1.7782206535339355, \"Y\": -1.2974019050598145}, {\"X\": 1.3764522075653076, \"Y\": -1.363195776939392}, {\"X\": 1.1687456369400024, \"Y\": -1.5346599817276}, {\"X\": 0.8989182114601135, \"Y\": -1.6675231456756592}, {\"X\": 0.7350360751152039, \"Y\": -1.7069796323776245}, {\"X\": 0.5019063949584961, \"Y\": -1.7897889614105225}, {\"X\": 0.23863795399665833, \"Y\": -1.857874870300293}, {\"X\": -0.09561335295438766, \"Y\": -1.9027745723724365}, {\"X\": -0.3728882372379303, \"Y\": -1.983777642250061}, {\"X\": -0.614058256149292, \"Y\": -2.1610922813415527}, {\"X\": -0.9108313918113708, \"Y\": -2.173621654510498}, {\"X\": -1.1635314226150513, \"Y\": -2.2280523777008057}, {\"X\": -1.3192377090454102, \"Y\": -2.3887410163879395}, {\"X\": -1.5004847049713135, \"Y\": -2.668936014175415}, {\"X\": -1.7092009782791138, \"Y\": -2.7705137729644775}, {\"X\": -1.8796706199645996, \"Y\": -2.882958173751831}, {\"X\": -1.909157633781433, \"Y\": -2.995938777923584}, {\"X\": -1.9907267093658447, \"Y\": -3.28286075592041}, {\"X\": -2.0793449878692627, \"Y\": -3.402276039123535}, {\"X\": -1.986168622970581, \"Y\": -3.666245698928833}, {\"X\": -1.9553991556167603, \"Y\": -3.811880111694336}, {\"X\": -1.8604896068572998, \"Y\": -4.053085803985596}, {\"X\": -1.779961109161377, \"Y\": -4.185980796813965}, {\"X\": -1.8671256303787231, \"Y\": -4.337641716003418}, {\"X\": -1.6265407800674438, \"Y\": -4.438357353210449}, {\"X\": -1.5266708135604858, \"Y\": -4.612992286682129}, {\"X\": -1.2925918102264404, \"Y\": -4.728862762451172}, {\"X\": -1.064899206161499, \"Y\": -4.8412675857543945}, {\"X\": -0.8904402852058411, \"Y\": -4.9544358253479}, {\"X\": -0.9443367719650269, \"Y\": -4.94920015335083}, {\"X\": -0.6952013969421387, \"Y\": -4.932919979095459}, {\"X\": -0.7916515469551086, \"Y\": -5.0927300453186035}, {\"X\": -0.3096214532852173, \"Y\": -5.013390064239502}, {\"X\": -0.1693120151758194, \"Y\": -5.1993327140808105}, {\"X\": 0.009690262377262115, \"Y\": -5.207074165344238}, {\"X\": 0.12519550323486328, \"Y\": -5.122093677520752}, {\"X\": 0.3786572217941284, \"Y\": -5.060808181762695}, {\"X\": 0.5441614985466003, \"Y\": -5.101921081542969}, {\"X\": 0.8023618459701538, \"Y\": -5.150757312774658}, {\"X\": 0.8812079429626465, \"Y\": -5.082837104797363}, {\"X\": 1.0958449840545654, \"Y\": -5.059116840362549}, {\"X\": 1.1555286645889282, \"Y\": -5.08853006362915}, {\"X\": 1.514251470565796, \"Y\": -4.940776348114014}, {\"X\": 1.6057738065719604, \"Y\": -4.982118606567383}, {\"X\": 1.7219021320343018, \"Y\": -4.910479545593262}, {\"X\": 1.8421363830566406, \"Y\": -4.895878791809082}, {\"X\": 2.2737321853637695, \"Y\": -4.768247127532959}, {\"X\": 2.2712905406951904, \"Y\": -4.760547161102295}, {\"X\": 2.4931085109710693, \"Y\": -4.8793559074401855}, {\"X\": 2.641602039337158, \"Y\": -4.602994441986084}, {\"X\": 2.7106688022613525, \"Y\": -4.6745429039001465}, {\"X\": 2.879091739654541, \"Y\": -4.5634660720825195}, {\"X\": 3.237414836883545, \"Y\": -4.321062088012695}, {\"X\": 3.1846847534179688, \"Y\": -4.480557441711426}, {\"X\": 3.2924630641937256, \"Y\": -4.297889232635498}, {\"X\": 3.5809788703918457, \"Y\": -4.28798246383667}, {\"X\": 3.7122926712036133, \"Y\": -4.1309123039245605}, {\"X\": 3.8226022720336914, \"Y\": -4.110009670257568}, {\"X\": 3.897199869155884, \"Y\": -4.032761096954346}, {\"X\": 4.060260772705078, \"Y\": -3.783851385116577}, {\"X\": 4.1756062507629395, \"Y\": -3.8679261207580566}, {\"X\": 4.296520709991455, \"Y\": -3.8221890926361084}, {\"X\": 4.443127632141113, \"Y\": -3.6125454902648926}, {\"X\": 4.587709903717041, \"Y\": -3.7457799911499023}, {\"X\": 4.672621726989746, \"Y\": -3.594467878341675}, {\"X\": 4.749650001525879, \"Y\": -3.5904693603515625}, {\"X\": 4.813543319702148, \"Y\": -3.5674192905426025}, {\"X\": 4.910600662231445, \"Y\": -3.467745780944824}, {\"X\": 4.937148094177246, \"Y\": -3.4969708919525146}, {\"X\": 4.981568336486816, \"Y\": -3.380983352661133}, {\"X\": 4.974758148193359, \"Y\": -3.4371752738952637}, {\"X\": 4.198794841766357, \"Y\": 5.30906867980957}, {\"X\": -3.349332094192505, \"Y\": 2.5248069763183594}, {\"X\": -3.209273099899292, \"Y\": 0.9243966937065125}, {\"X\": -2.6780025959014893, \"Y\": 2.5606932640075684}, {\"X\": -2.190624713897705, \"Y\": 2.265052556991577}, {\"X\": -1.6844269037246704, \"Y\": 2.581969738006592}, {\"X\": -1.3931528329849243, \"Y\": 2.0928537845611572}, {\"X\": -0.7947295308113098, \"Y\": 2.698805570602417}, {\"X\": -0.40872788429260254, \"Y\": 2.4503753185272217}, {\"X\": -0.16068825125694275, \"Y\": 2.2842299938201904}, {\"X\": 0.23407483100891113, \"Y\": 2.7315268516540527}, {\"X\": 0.8365198969841003, \"Y\": 2.5091865062713623}, {\"X\": 1.2564455270767212, \"Y\": 2.089534044265747}, {\"X\": 1.4494805335998535, \"Y\": 2.1800754070281982}, {\"X\": 4.322775363922119, \"Y\": 5.118071556091309}, {\"X\": -3.4238808155059814, \"Y\": 2.4254894256591797}, {\"X\": -3.2409985065460205, \"Y\": 2.386730909347534}, {\"X\": -4.608517646789551, \"Y\": 4.034452438354492}, {\"X\": -2.198897361755371, \"Y\": 2.530150890350342}, {\"X\": -1.2608133554458618, \"Y\": 3.4006595611572266}, {\"X\": -1.2915595769882202, \"Y\": 2.0764973163604736}, {\"X\": -0.8545819520950317, \"Y\": 2.425067186355591}, {\"X\": -0.4461481273174286, \"Y\": 2.377638339996338}, {\"X\": 0.06250858306884766, \"Y\": 2.617976427078247}, {\"X\": 0.28710928559303284, \"Y\": 2.4638819694519043}, {\"X\": 0.7695584893226624, \"Y\": 2.4086740016937256}, {\"X\": 0.9387720823287964, \"Y\": 2.2273566722869873}, {\"X\": 1.3810718059539795, \"Y\": 2.152163028717041}, {\"X\": 1.6265724897384644, \"Y\": 2.068159341812134}, {\"X\": 1.9185031652450562, \"Y\": 1.7236894369125366}, {\"X\": 2.0588433742523193, \"Y\": 1.7100675106048584}, {\"X\": 2.1739256381988525, \"Y\": 1.4308154582977295}, {\"X\": 2.3609328269958496, \"Y\": 1.1318188905715942}, {\"X\": 2.4760234355926514, \"Y\": 0.8832955956459045}, {\"X\": 2.570352792739868, \"Y\": 0.6081668138504028}, {\"X\": 2.630619525909424, \"Y\": 0.3447011709213257}, {\"X\": 2.5433106422424316, \"Y\": -0.009114574640989304}, {\"X\": 2.5280587673187256, \"Y\": -0.45928096771240234}, {\"X\": 2.332035779953003, \"Y\": -0.7021334767341614}, {\"X\": 2.3088266849517822, \"Y\": -0.6568812727928162}, {\"X\": 2.083942174911499, \"Y\": -0.8750671148300171}, {\"X\": 1.9124104976654053, \"Y\": -1.152945876121521}, {\"X\": 1.776506781578064, \"Y\": -1.2973490953445435}, {\"X\": 1.4452860355377197, \"Y\": -1.4011062383651733}, {\"X\": 1.2168442010879517, \"Y\": -1.5742957592010498}, {\"X\": 1.0405244827270508, \"Y\": -1.6428964138031006}, {\"X\": 0.6415432691574097, \"Y\": -1.716637372970581}, {\"X\": 0.30061832070350647, \"Y\": -1.8187241554260254}, {\"X\": 0.1593027412891388, \"Y\": -1.873442530632019}, {\"X\": -0.09703949093818665, \"Y\": -1.9277547597885132}, {\"X\": -0.23775269091129303, \"Y\": -1.956857681274414}, {\"X\": -0.7102158069610596, \"Y\": -2.0766561031341553}, {\"X\": -0.8393836617469788, \"Y\": -2.138153553009033}, {\"X\": -1.0356550216674805, \"Y\": -2.294694662094116}, {\"X\": -1.365954041481018, \"Y\": -2.4465243816375732}, {\"X\": -1.5009572505950928, \"Y\": -2.568549394607544}, {\"X\": -1.6105201244354248, \"Y\": -2.644282817840576}, {\"X\": -1.8718639612197876, \"Y\": -2.916020393371582}, {\"X\": -1.9144587516784668, \"Y\": -3.1997485160827637}, {\"X\": -1.9914699792861938, \"Y\": -3.4490084648132324}, {\"X\": -2.059598684310913, \"Y\": -3.516191005706787}, {\"X\": -1.9822540283203125, \"Y\": -3.8369174003601074}, {\"X\": -2.002814292907715, \"Y\": -3.7553036212921143}, {\"X\": -1.9177134037017822, \"Y\": -4.023013591766357}, {\"X\": -1.8109248876571655, \"Y\": -4.046546459197998}, {\"X\": -1.6902809143066406, \"Y\": -4.401008129119873}, {\"X\": -1.5886106491088867, \"Y\": -4.507340431213379}, {\"X\": -1.4631074666976929, \"Y\": -4.609050273895264}, {\"X\": -1.2077845335006714, \"Y\": -4.729067802429199}, {\"X\": -1.2087663412094116, \"Y\": -4.7964043617248535}, {\"X\": -1.057961106300354, \"Y\": -4.993279457092285}, {\"X\": -0.7590142488479614, \"Y\": -4.932352066040039}, {\"X\": -0.7996957302093506, \"Y\": -5.049832344055176}, {\"X\": -0.5777446031570435, \"Y\": -5.136234283447266}, {\"X\": -0.37623947858810425, \"Y\": -5.1227030754089355}, {\"X\": -0.18974298238754272, \"Y\": -5.0707783699035645}, {\"X\": -0.06435956060886383, \"Y\": -5.093475341796875}, {\"X\": 0.09161881357431412, \"Y\": -5.109544277191162}, {\"X\": 0.3088505268096924, \"Y\": -5.099405765533447}, {\"X\": 0.5388975143432617, \"Y\": -5.1827898025512695}, {\"X\": 0.6630983352661133, \"Y\": -5.102380275726318}, {\"X\": 0.9197302460670471, \"Y\": -5.093471527099609}, {\"X\": 1.251845359802246, \"Y\": -5.02678108215332}, {\"X\": 1.3081581592559814, \"Y\": -4.993907928466797}, {\"X\": 1.4108065366744995, \"Y\": -4.919805526733398}, {\"X\": 1.4608315229415894, \"Y\": -5.001290798187256}, {\"X\": 1.6447356939315796, \"Y\": -4.920236110687256}, {\"X\": 1.8498960733413696, \"Y\": -4.986856937408447}, {\"X\": 1.980828046798706, \"Y\": -4.794521331787109}, {\"X\": 2.343428134918213, \"Y\": -4.818588733673096}, {\"X\": 2.5102038383483887, \"Y\": -4.690295696258545}, {\"X\": 2.6992709636688232, \"Y\": -4.466544151306152}, {\"X\": 2.80991530418396, \"Y\": -4.774341583251953}, {\"X\": 2.878584861755371, \"Y\": -4.596246719360352}, {\"X\": 3.057060480117798, \"Y\": -4.442548751831055}, {\"X\": 3.213742256164551, \"Y\": -4.433012008666992}, {\"X\": 3.3663690090179443, \"Y\": -4.297125816345215}, {\"X\": 3.435892343521118, \"Y\": -4.2971978187561035}, {\"X\": 3.5971498489379883, \"Y\": -4.097955226898193}, {\"X\": 3.905655860900879, \"Y\": -4.084610462188721}, {\"X\": 3.8994250297546387, \"Y\": -4.00457239151001}, {\"X\": 4.103168964385986, \"Y\": -3.8850009441375732}, {\"X\": 4.178885459899902, \"Y\": -3.8596770763397217}, {\"X\": 4.3009185791015625, \"Y\": -3.8508424758911133}, {\"X\": 4.426624774932861, \"Y\": -3.6990272998809814}, {\"X\": 4.527744770050049, \"Y\": -3.6057589054107666}, {\"X\": 4.676303863525391, \"Y\": -3.623246908187866}, {\"X\": 4.759957790374756, \"Y\": -3.5187485218048096}, {\"X\": 4.7930521965026855, \"Y\": -3.5468342304229736}, {\"X\": 4.8420281410217285, \"Y\": -3.6291565895080566}, {\"X\": 4.929425239562988, \"Y\": -3.415210008621216}, {\"X\": 4.968112468719482, \"Y\": -3.422506809234619}, {\"X\": 4.93824577331543, \"Y\": -3.427494525909424}, {\"X\": 5.01239013671875, \"Y\": -3.393869400024414}, {\"X\": 4.99324369430542, \"Y\": -3.452847957611084}, {\"X\": -3.421353816986084, \"Y\": 2.4161570072174072}, {\"X\": -4.8454976081848145, \"Y\": 3.731787919998169}, {\"X\": -2.631981134414673, \"Y\": 2.1705706119537354}, {\"X\": -2.4876017570495605, \"Y\": 2.2103443145751953}, {\"X\": -1.727643370628357, \"Y\": 2.626317262649536}, {\"X\": -1.1093921661376953, \"Y\": 3.43084979057312}, {\"X\": -0.8844125270843506, \"Y\": 2.1981868743896484}, {\"X\": -0.42677226662635803, \"Y\": 3.1500658988952637}, {\"X\": -0.006974183022975922, \"Y\": 2.7296812534332275}, {\"X\": 0.46039459109306335, \"Y\": 2.529986619949341}, {\"X\": 0.8056953549385071, \"Y\": 2.438793420791626}, {\"X\": 1.1445121765136719, \"Y\": 2.288168430328369}, {\"X\": 1.4358551502227783, \"Y\": 2.031200647354126}, {\"X\": 1.6329249143600464, \"Y\": 1.9950376749038696}, {\"X\": 1.8181664943695068, \"Y\": 1.7962803840637207}, {\"X\": 2.0692708492279053, \"Y\": 1.644698143005371}, {\"X\": 2.2381200790405273, \"Y\": 1.3426399230957031}, {\"X\": 2.272761106491089, \"Y\": 1.2881617546081543}, {\"X\": 2.4677441120147705, \"Y\": 0.9070752263069153}, {\"X\": 2.599498987197876, \"Y\": 0.7016719579696655}, {\"X\": 2.5815680027008057, \"Y\": 0.33933064341545105}, {\"X\": 2.5620181560516357, \"Y\": 0.02747957408428192}, {\"X\": 2.5244975090026855, \"Y\": -0.41036510467529297}, {\"X\": 2.4248149394989014, \"Y\": -0.4511789381504059}, {\"X\": 2.2439746856689453, \"Y\": -0.7386420965194702}, {\"X\": 2.0643343925476074, \"Y\": -0.984398603439331}, {\"X\": 1.8974262475967407, \"Y\": -1.136605143547058}, {\"X\": 1.294472098350525, \"Y\": -1.423596978187561}, {\"X\": 1.3176274299621582, \"Y\": -1.42872953414917}, {\"X\": 1.0760784149169922, \"Y\": -1.5266993045806885}, {\"X\": 0.8929281830787659, \"Y\": -1.6127756834030151}, {\"X\": 0.6948685646057129, \"Y\": -1.7605140209197998}, {\"X\": 0.4841731786727905, \"Y\": -1.7693537473678589}, {\"X\": 0.18340739607810974, \"Y\": -1.8613193035125732}, {\"X\": -0.1415635496377945, \"Y\": -1.940717101097107}, {\"X\": -0.15238234400749207, \"Y\": -1.9959733486175537}, {\"X\": -0.6051737070083618, \"Y\": -2.07314395904541}, {\"X\": -0.9819531440734863, \"Y\": -2.196868419647217}, {\"X\": -1.132698893547058, \"Y\": -2.2401812076568604}, {\"X\": -1.3412671089172363, \"Y\": -2.393409490585327}, {\"X\": -1.558111310005188, \"Y\": -2.561647891998291}, {\"X\": -1.6400487422943115, \"Y\": -2.719609498977661}, {\"X\": -1.7387652397155762, \"Y\": -2.720867872238159}, {\"X\": -1.8976638317108154, \"Y\": -3.038848638534546}, {\"X\": -2.084472894668579, \"Y\": -3.2857847213745117}, {\"X\": -2.0289618968963623, \"Y\": -3.5524606704711914}, {\"X\": -1.8929121494293213, \"Y\": -3.563720226287842}, {\"X\": -2.0428690910339355, \"Y\": -3.8524093627929688}, {\"X\": -1.9160581827163696, \"Y\": -4.0280046463012695}, {\"X\": -2.0949275493621826, \"Y\": -4.192065238952637}, {\"X\": -1.5212799310684204, \"Y\": -4.400700569152832}, {\"X\": -1.4335545301437378, \"Y\": -4.521142959594727}, {\"X\": -1.453309178352356, \"Y\": -4.655794143676758}, {\"X\": -1.1705219745635986, \"Y\": -4.724998950958252}, {\"X\": -1.0776742696762085, \"Y\": -4.790679931640625}, {\"X\": -1.1154358386993408, \"Y\": -4.74825382232666}, {\"X\": -0.9465761184692383, \"Y\": -4.920782089233398}, {\"X\": -0.6863191723823547, \"Y\": -5.128420829772949}, {\"X\": -0.42978519201278687, \"Y\": -5.014273643493652}, {\"X\": -0.38879767060279846, \"Y\": -5.097766876220703}, {\"X\": -0.2793917655944824, \"Y\": -5.099146842956543}, {\"X\": -0.00686538964509964, \"Y\": -5.2030510902404785}, {\"X\": 0.11058588325977325, \"Y\": -5.112087249755859}, {\"X\": 0.3400123417377472, \"Y\": -5.185302257537842}, {\"X\": 0.5571923851966858, \"Y\": -4.792523384094238}, {\"X\": 0.7321757078170776, \"Y\": -5.093282699584961}, {\"X\": 0.9220752716064453, \"Y\": -4.924470901489258}, {\"X\": 1.0140855312347412, \"Y\": -4.9854888916015625}, {\"X\": 1.1917762756347656, \"Y\": -5.101990222930908}, {\"X\": 1.5235079526901245, \"Y\": -5.019418239593506}, {\"X\": 1.4940929412841797, \"Y\": -4.948224067687988}, {\"X\": 1.811905860900879, \"Y\": -4.934764385223389}, {\"X\": 2.107708215713501, \"Y\": -4.730266571044922}, {\"X\": 2.164440155029297, \"Y\": -4.890111923217773}, {\"X\": 2.330378770828247, \"Y\": -4.760875701904297}, {\"X\": 2.436037063598633, \"Y\": -4.840439319610596}, {\"X\": 2.615105628967285, \"Y\": -4.674865245819092}, {\"X\": 2.7148866653442383, \"Y\": -4.665623664855957}, {\"X\": 2.8969807624816895, \"Y\": -4.475938320159912}, {\"X\": 3.0611984729766846, \"Y\": -4.502345085144043}, {\"X\": 3.2382612228393555, \"Y\": -4.411733627319336}, {\"X\": 3.402942419052124, \"Y\": -4.307366847991943}, {\"X\": 3.519685745239258, \"Y\": -4.07967472076416}, {\"X\": 3.6455650329589844, \"Y\": -4.253897666931152}, {\"X\": 3.7707324028015137, \"Y\": -4.097997665405273}, {\"X\": 3.942505359649658, \"Y\": -4.0312275886535645}, {\"X\": 4.022441387176514, \"Y\": -4.0357184410095215}, {\"X\": 4.199250221252441, \"Y\": -3.865328311920166}, {\"X\": 4.318350315093994, \"Y\": -3.895115613937378}, {\"X\": 4.410857677459717, \"Y\": -3.718791961669922}, {\"X\": 4.511302471160889, \"Y\": -3.760446786880493}, {\"X\": 4.681820392608643, \"Y\": -3.5235941410064697}, {\"X\": 4.757218360900879, \"Y\": -3.528298854827881}, {\"X\": 4.835202217102051, \"Y\": -3.2909469604492188}, {\"X\": 4.870392322540283, \"Y\": -3.5023834705352783}, {\"X\": 5.080173015594482, \"Y\": -3.2383205890655518}, {\"X\": 4.965419769287109, \"Y\": -3.8729071617126465}, {\"X\": 4.993683338165283, \"Y\": -3.4195945262908936}, {\"X\": 4.989120006561279, \"Y\": -3.393832206726074}, {\"X\": 4.984476566314697, \"Y\": -3.484546422958374}, {\"X\": -3.497706413269043, \"Y\": 2.5825302600860596}, {\"X\": -3.1137800216674805, \"Y\": 2.3855626583099365}, {\"X\": -2.4618592262268066, \"Y\": 2.108626365661621}, {\"X\": -2.108469009399414, \"Y\": 2.6538164615631104}, {\"X\": -1.627084732055664, \"Y\": 1.9816200733184814}, {\"X\": -1.2547667026519775, \"Y\": 2.370048761367798}, {\"X\": -0.6965402364730835, \"Y\": 3.2177984714508057}, {\"X\": -0.3812176585197449, \"Y\": 2.2148051261901855}, {\"X\": -0.025745447725057602, \"Y\": 2.4939005374908447}, {\"X\": 0.5380027294158936, \"Y\": 2.344067335128784}, {\"X\": 0.8145779967308044, \"Y\": 2.530045747756958}, {\"X\": 1.1676127910614014, \"Y\": 2.4015238285064697}, {\"X\": 1.4653137922286987, \"Y\": 1.9542289972305298}, {\"X\": 1.6540930271148682, \"Y\": 2.03049898147583}, {\"X\": 4.054407119750977, \"Y\": 5.332760810852051}, {\"X\": -3.4368605613708496, \"Y\": 2.4124746322631836}, {\"X\": -3.0942156314849854, \"Y\": 2.409990072250366}, {\"X\": -4.608617782592773, \"Y\": 3.9960246086120605}, {\"X\": -2.3377296924591064, \"Y\": 2.3229143619537354}, {\"X\": -1.9797074794769287, \"Y\": 2.6952195167541504}, {\"X\": -1.239567518234253, \"Y\": 2.6322972774505615}, {\"X\": -0.8462362289428711, \"Y\": 2.4705545902252197}, {\"X\": -0.508659303188324, \"Y\": 2.2285914421081543}, {\"X\": 0.06312905251979828, \"Y\": 2.4995763301849365}, {\"X\": 0.5136547088623047, \"Y\": 2.3712401390075684}, {\"X\": 0.7529734969139099, \"Y\": 2.532522201538086}, {\"X\": 1.0496199131011963, \"Y\": 2.2851359844207764}, {\"X\": 1.3294093608856201, \"Y\": 2.144564151763916}, {\"X\": 1.5708420276641846, \"Y\": 2.0681064128875732}, {\"X\": 1.9058603048324585, \"Y\": 1.5888582468032837}, {\"X\": 2.099498748779297, \"Y\": 1.6370265483856201}, {\"X\": 2.26572322845459, \"Y\": 1.3657244443893433}, {\"X\": 2.4182941913604736, \"Y\": 1.1111812591552734}, {\"X\": 2.5162556171417236, \"Y\": 0.867050290107727}, {\"X\": 2.6077382564544678, \"Y\": 0.44565290212631226}, {\"X\": 2.360187530517578, \"Y\": 0.44838792085647583}, {\"X\": 2.631284713745117, \"Y\": -0.03077109158039093}, {\"X\": 2.56976318359375, \"Y\": -0.18816439807415009}, {\"X\": 2.4310450553894043, \"Y\": -0.3754824995994568}, {\"X\": 2.2490408420562744, \"Y\": -0.7786610126495361}, {\"X\": 2.0229249000549316, \"Y\": -0.939060389995575}, {\"X\": 1.9416266679763794, \"Y\": -1.1409741640090942}, {\"X\": 1.7178449630737305, \"Y\": -1.283268928527832}, {\"X\": 1.4732733964920044, \"Y\": -1.415823221206665}, {\"X\": 1.153146505355835, \"Y\": -1.6132630109786987}, {\"X\": 0.9708616733551025, \"Y\": -1.643734335899353}, {\"X\": 0.8487523794174194, \"Y\": -1.6877117156982422}, {\"X\": 0.42590299248695374, \"Y\": -1.7852462530136108}, {\"X\": 0.17576657235622406, \"Y\": -1.8592219352722168}, {\"X\": -0.0873153954744339, \"Y\": -1.831379771232605}, {\"X\": -0.37306585907936096, \"Y\": -1.9579148292541504}, {\"X\": -0.6107245683670044, \"Y\": -2.0800955295562744}, {\"X\": -0.9348276257514954, \"Y\": -2.210676908493042}, {\"X\": -1.2126816511154175, \"Y\": -2.2989466190338135}, {\"X\": -1.3811285495758057, \"Y\": -2.465564012527466}, {\"X\": -1.540042757987976, \"Y\": -2.5577940940856934}, {\"X\": -1.6771894693374634, \"Y\": -2.7149384021759033}, {\"X\": -1.8302483558654785, \"Y\": -3.0434117317199707}, {\"X\": -2.052698850631714, \"Y\": -2.9834184646606445}, {\"X\": -1.9441355466842651, \"Y\": -3.243297815322876}, {\"X\": -2.0268683433532715, \"Y\": -3.483912467956543}, {\"X\": -2.0046331882476807, \"Y\": -3.8896918296813965}, {\"X\": -2.0237789154052734, \"Y\": -3.8209409713745117}, {\"X\": -1.898248553276062, \"Y\": -4.087791919708252}, {\"X\": -1.8842357397079468, \"Y\": -4.07858943939209}, {\"X\": -1.8200913667678833, \"Y\": -4.6247758865356445}, {\"X\": -1.6727553606033325, \"Y\": -4.373137474060059}, {\"X\": -1.5851954221725464, \"Y\": -4.552915573120117}, {\"X\": -1.28374445438385, \"Y\": -4.823070526123047}, {\"X\": -1.1721729040145874, \"Y\": -4.804806232452393}, {\"X\": -1.0144377946853638, \"Y\": -4.9038496017456055}, {\"X\": -0.7244369387626648, \"Y\": -4.945568561553955}, {\"X\": -0.5990011096000671, \"Y\": -5.026895999908447}, {\"X\": -0.48802852630615234, \"Y\": -5.109743118286133}, {\"X\": -0.4997943639755249, \"Y\": -5.004047393798828}, {\"X\": 4.1486406326293945, \"Y\": 5.303579807281494}, {\"X\": -3.4332470893859863, \"Y\": 2.4394140243530273}, {\"X\": -3.1704840660095215, \"Y\": 2.3269715309143066}, {\"X\": -2.847332000732422, \"Y\": 2.2316975593566895}, {\"X\": -2.280036449432373, \"Y\": 1.6825182437896729}, {\"X\": -1.7863457202911377, \"Y\": 2.6506216526031494}, {\"X\": -1.2479913234710693, \"Y\": 2.4927656650543213}, {\"X\": -0.8490437269210815, \"Y\": 2.6589388847351074}, {\"X\": -0.512089729309082, \"Y\": 2.275911569595337}, {\"X\": 0.030362334102392197, \"Y\": 2.406339406967163}, {\"X\": 0.30269190669059753, \"Y\": 2.4199836254119873}, {\"X\": 0.7545953989028931, \"Y\": 2.3456506729125977}, {\"X\": 1.0304843187332153, \"Y\": 2.4018940925598145}, {\"X\": 1.3991920948028564, \"Y\": 2.220562219619751}, {\"X\": 1.6977121829986572, \"Y\": 1.9035598039627075}, {\"X\": 1.9166845083236694, \"Y\": 1.9193506240844727}, {\"X\": 2.0171732902526855, \"Y\": 1.556436538696289}, {\"X\": 2.2157816886901855, \"Y\": 1.3765621185302734}, {\"X\": 2.382997989654541, \"Y\": 1.0828526020050049}, {\"X\": 2.491455554962158, \"Y\": 0.8630773425102234}, {\"X\": 2.5939371585845947, \"Y\": 0.5501542091369629}, {\"X\": 2.7753047943115234, \"Y\": 0.3640534579753876}, {\"X\": 2.5883736610412598, \"Y\": 0.09371969848871231}, {\"X\": 2.49540376663208, \"Y\": -0.2311272919178009}, {\"X\": 2.3930869102478027, \"Y\": -0.523810625076294}, {\"X\": 2.223778486251831, \"Y\": -0.7745632529258728}, {\"X\": 2.089421272277832, \"Y\": -0.9637929201126099}, {\"X\": 2.0417258739471436, \"Y\": -1.410866141319275}, {\"X\": 1.8182176351547241, \"Y\": -1.2050793170928955}, {\"X\": 1.4088233709335327, \"Y\": -1.408308982849121}, {\"X\": 1.183060646057129, \"Y\": -1.6193760633468628}, {\"X\": 0.873373806476593, \"Y\": -1.6547828912734985}, {\"X\": 0.4235992729663849, \"Y\": -1.903030276298523}, {\"X\": 0.2952544093132019, \"Y\": -1.818429708480835}, {\"X\": 0.14124242961406708, \"Y\": -1.698474407196045}, {\"X\": -0.14092937111854553, \"Y\": -1.9317513704299927}, {\"X\": -0.3844776749610901, \"Y\": -1.9994765520095825}, {\"X\": -0.615225613117218, \"Y\": -2.2096190452575684}, {\"X\": -0.879407525062561, \"Y\": -2.1624865531921387}, {\"X\": -1.1443794965744019, \"Y\": -2.2646472454071045}, {\"X\": -1.2377058267593384, \"Y\": -2.353015661239624}, {\"X\": -1.4733002185821533, \"Y\": -2.509751796722412}, {\"X\": -1.782241940498352, \"Y\": -2.7046256065368652}, {\"X\": -1.7938991785049438, \"Y\": -2.7492258548736572}, {\"X\": -1.704421877861023, \"Y\": -3.0232865810394287}, {\"X\": -2.0087180137634277, \"Y\": -3.255678415298462}, {\"X\": -1.9900647401809692, \"Y\": -3.4153103828430176}, {\"X\": -2.0254018306732178, \"Y\": -3.44781756401062}, {\"X\": -2.0801050662994385, \"Y\": -3.7966086864471436}, {\"X\": 4.145952224731445, \"Y\": 5.301877021789551}, {\"X\": -3.518064022064209, \"Y\": 0.5991485714912415}, {\"X\": -3.2122743129730225, \"Y\": 2.5322093963623047}, {\"X\": -2.668752670288086, \"Y\": 2.578058958053589}, {\"X\": -2.125274419784546, \"Y\": 2.648261070251465}, {\"X\": -1.7777425050735474, \"Y\": 2.6484463214874268}, {\"X\": -0.934750497341156, \"Y\": 3.3940863609313965}, {\"X\": -0.6669579148292542, \"Y\": 3.341198444366455}, {\"X\": -0.3451453447341919, \"Y\": 2.7845845222473145}, {\"X\": 0.040899768471717834, \"Y\": 2.5808966159820557}, {\"X\": 0.459187775850296, \"Y\": 2.6380648612976074}, {\"X\": 0.7719824314117432, \"Y\": 2.429858922958374}, {\"X\": 1.0906341075897217, \"Y\": 2.363065004348755}, {\"X\": 1.4501479864120483, \"Y\": 2.156998634338379}, {\"X\": 1.6268583536148071, \"Y\": 1.920067310333252}, {\"X\": 1.9180991649627686, \"Y\": 1.8586302995681763}, {\"X\": 2.106886386871338, \"Y\": 1.5097758769989014}, {\"X\": 2.21671724319458, \"Y\": 1.3626675605773926}, {\"X\": 2.535395622253418, \"Y\": 1.4602044820785522}, {\"X\": 2.603630304336548, \"Y\": 0.8625685572624207}, {\"X\": 2.7544426918029785, \"Y\": 0.4589519500732422}, {\"X\": 2.544806718826294, \"Y\": 0.27132299542427063}, {\"X\": 2.5420758724212646, \"Y\": 0.029645148664712906}, {\"X\": 2.4628231525421143, \"Y\": -0.290021151304245}, {\"X\": 2.457098960876465, \"Y\": -0.8068825602531433}, {\"X\": 2.3195042610168457, \"Y\": -0.5987749695777893}, {\"X\": 2.1725246906280518, \"Y\": -0.9952771663665771}, {\"X\": 1.9353312253952026, \"Y\": -1.1163661479949951}, {\"X\": 1.776061773300171, \"Y\": -1.3914941549301147}, {\"X\": 1.4513583183288574, \"Y\": -1.4390006065368652}, {\"X\": 1.2902517318725586, \"Y\": -1.5429410934448242}, {\"X\": 0.9039409756660461, \"Y\": -1.655593991279602}, {\"X\": 0.6829715967178345, \"Y\": -1.6708039045333862}, {\"X\": 0.4744642972946167, \"Y\": -1.7778658866882324}, {\"X\": 0.1373656541109085, \"Y\": -2.0259485244750977}, {\"X\": -0.06385502219200134, \"Y\": -1.9197521209716797}, {\"X\": -0.36034518480300903, \"Y\": -1.966326117515564}, {\"X\": -0.5931792259216309, \"Y\": -2.0788261890411377}, {\"X\": -1.064138650894165, \"Y\": -2.207578182220459}, {\"X\": -1.0031824111938477, \"Y\": -2.2344110012054443}, {\"X\": -1.279649257659912, \"Y\": -2.3895552158355713}, {\"X\": -1.468737244606018, \"Y\": -2.538606882095337}, {\"X\": -1.7752679586410522, \"Y\": -2.8386058807373047}, {\"X\": -1.8020493984222412, \"Y\": -3.007225751876831}, {\"X\": -1.9533745050430298, \"Y\": -3.1391561031341553}, {\"X\": 4.221044540405273, \"Y\": 5.2882080078125}, {\"X\": -4.977282524108887, \"Y\": 3.801645040512085}, {\"X\": -2.976975202560425, \"Y\": 2.3039309978485107}, {\"X\": -2.714928150177002, \"Y\": 2.1737208366394043}, {\"X\": -2.2584309577941895, \"Y\": 2.140756130218506}, {\"X\": -1.7196263074874878, \"Y\": 2.5462825298309326}, {\"X\": -0.802213191986084, \"Y\": 3.3013336658477783}, {\"X\": -0.8145332336425781, \"Y\": 2.6580309867858887}, {\"X\": -0.5172995328903198, \"Y\": 2.3363966941833496}, {\"X\": 0.05935210734605789, \"Y\": 3.007570743560791}, {\"X\": 0.2698368430137634, \"Y\": 2.6816718578338623}, {\"X\": 0.9979993104934692, \"Y\": 2.1813230514526367}, {\"X\": 1.2962535619735718, \"Y\": 2.262343406677246}, {\"X\": 4.149344444274902, \"Y\": 5.361814498901367}, {\"X\": -3.496389865875244, \"Y\": 0.6144265532493591}, {\"X\": -4.902468681335449, \"Y\": 3.901931047439575}, {\"X\": -2.6425540447235107, \"Y\": 2.170452356338501}, {\"X\": -2.3559446334838867, \"Y\": 2.247885227203369}, {\"X\": -1.749525547027588, \"Y\": 2.6999988555908203}, {\"X\": -1.2617814540863037, \"Y\": 2.358448028564453}, {\"X\": -0.8709698915481567, \"Y\": 2.501659870147705}, {\"X\": -0.41445428133010864, \"Y\": 3.0985164642333984}, {\"X\": -0.009740041568875313, \"Y\": 2.429049491882324}, {\"X\": 0.6497771143913269, \"Y\": 2.243788480758667}, {\"X\": 0.8096367716789246, \"Y\": 2.487248420715332}, {\"X\": 0.9647033214569092, \"Y\": 2.3711495399475098}, {\"X\": 1.3670538663864136, \"Y\": 2.1393179893493652}, {\"X\": 1.6914759874343872, \"Y\": 2.45160174369812}, {\"X\": 1.921614170074463, \"Y\": 1.7386447191238403}, {\"X\": 2.099730968475342, \"Y\": 1.6238679885864258}, {\"X\": 2.2768540382385254, \"Y\": 1.3227384090423584}, {\"X\": 2.384129047393799, \"Y\": 1.0893332958221436}, {\"X\": 2.5091543197631836, \"Y\": 0.91274493932724}, {\"X\": 2.6249330043792725, \"Y\": 0.544574499130249}, {\"X\": 2.6843271255493164, \"Y\": 0.3196867108345032}, {\"X\": 2.6145856380462646, \"Y\": -0.20345734059810638}, {\"X\": 2.4880423545837402, \"Y\": 0.262182354927063}, {\"X\": 2.409071683883667, \"Y\": -0.5367065072059631}, {\"X\": 2.251405715942383, \"Y\": -0.7669082283973694}, {\"X\": 1.9400248527526855, \"Y\": -0.9609963297843933}, {\"X\": 1.9493180513381958, \"Y\": -1.1702290773391724}, {\"X\": 1.6674773693084717, \"Y\": -1.2615829706192017}, {\"X\": 1.6654294729232788, \"Y\": -1.29398512840271}, {\"X\": 1.5255730152130127, \"Y\": -1.429736614227295}, {\"X\": 1.0719496011734009, \"Y\": -1.62948739528656}, {\"X\": 0.5985027551651001, \"Y\": -1.6652617454528809}, {\"X\": 0.4806922674179077, \"Y\": -1.535386323928833}, {\"X\": 0.18723028898239136, \"Y\": -1.76850426197052}, {\"X\": -0.13117364048957825, \"Y\": -1.9390944242477417}, {\"X\": -0.378005713224411, \"Y\": -2.129601001739502}, {\"X\": -0.6091231107711792, \"Y\": -2.0738794803619385}, {\"X\": -0.8249993324279785, \"Y\": -2.2198493480682373}, {\"X\": -1.0254355669021606, \"Y\": -2.1680731773376465}, {\"X\": -1.2855455875396729, \"Y\": -2.3522543907165527}, {\"X\": -1.5238165855407715, \"Y\": -2.5072333812713623}, {\"X\": -1.6297178268432617, \"Y\": -2.627779483795166}, {\"X\": -1.8726876974105835, \"Y\": -2.9341137409210205}, {\"X\": -1.898695468902588, \"Y\": -3.109323263168335}, {\"X\": -1.9441187381744385, \"Y\": -3.228506565093994}, {\"X\": -2.024937868118286, \"Y\": -3.390010356903076}, {\"X\": -2.1649529933929443, \"Y\": -3.6439290046691895}, {\"X\": -1.9568408727645874, \"Y\": -3.785905361175537}, {\"X\": -1.8922960758209229, \"Y\": -4.0232954025268555}, {\"X\": -1.714930772781372, \"Y\": -4.148624897003174}, {\"X\": -1.7819392681121826, \"Y\": -4.069273471832275}, {\"X\": -1.5930383205413818, \"Y\": -4.527557373046875}, {\"X\": -1.4945414066314697, \"Y\": -4.628089904785156}, {\"X\": -1.563114047050476, \"Y\": -4.77294397354126}, {\"X\": -1.297196626663208, \"Y\": -4.874527931213379}, {\"X\": -1.068434476852417, \"Y\": -4.848245620727539}, {\"X\": -0.8616461753845215, \"Y\": -5.014359474182129}, {\"X\": -0.5046093463897705, \"Y\": -5.00885534286499}, {\"X\": -0.5321892499923706, \"Y\": -4.900771617889404}, {\"X\": -0.39232057332992554, \"Y\": -5.267077445983887}, {\"X\": -0.32753098011016846, \"Y\": -5.028210163116455}, {\"X\": -0.01912957802414894, \"Y\": -4.97965669631958}, {\"X\": 0.2188878059387207, \"Y\": -5.046031475067139}, {\"X\": 0.3785734176635742, \"Y\": -5.25015115737915}, {\"X\": 0.5387935638427734, \"Y\": -5.123337268829346}, {\"X\": 0.7425855994224548, \"Y\": -5.1008501052856445}, {\"X\": 0.9063917398452759, \"Y\": -5.0591044425964355}, {\"X\": 1.0638750791549683, \"Y\": -5.09671688079834}, {\"X\": 1.2714155912399292, \"Y\": -5.076340198516846}, {\"X\": 1.5177583694458008, \"Y\": -4.991085052490234}, {\"X\": 1.6024473905563354, \"Y\": -5.0050482749938965}, {\"X\": 1.7763909101486206, \"Y\": -4.914227485656738}, {\"X\": 1.8744064569473267, \"Y\": -4.920031547546387}, {\"X\": 2.2284042835235596, \"Y\": -4.90355920791626}, {\"X\": 2.562925338745117, \"Y\": -4.41422700881958}, {\"X\": 2.477276563644409, \"Y\": -4.7169718742370605}, {\"X\": 2.6886372566223145, \"Y\": -4.622066974639893}, {\"X\": 2.714672803878784, \"Y\": -4.559513568878174}, {\"X\": 2.9107258319854736, \"Y\": -4.447429656982422}, {\"X\": 2.9096078872680664, \"Y\": -4.524626731872559}, {\"X\": 3.2013535499572754, \"Y\": -4.464377403259277}, {\"X\": 3.3227908611297607, \"Y\": -4.327276229858398}, {\"X\": 3.5279476642608643, \"Y\": -4.333835124969482}, {\"X\": 3.6150784492492676, \"Y\": -4.243061065673828}, {\"X\": 3.7635159492492676, \"Y\": -4.152252674102783}, {\"X\": 3.871811866760254, \"Y\": -4.046226978302002}, {\"X\": 4.022194862365723, \"Y\": -3.9236395359039307}, {\"X\": 4.226602554321289, \"Y\": -3.8292105197906494}, {\"X\": 4.244490146636963, \"Y\": -3.745116710662842}, {\"X\": 4.541342735290527, \"Y\": -3.7259833812713623}, {\"X\": 4.540097236633301, \"Y\": -3.6913750171661377}, {\"X\": 4.641269207000732, \"Y\": -3.6733922958374023}, {\"X\": 4.773106575012207, \"Y\": -3.5172059535980225}, {\"X\": 4.710780143737793, \"Y\": -3.4830446243286133}, {\"X\": 4.880848407745361, \"Y\": -3.5325231552124023}, {\"X\": 4.818125247955322, \"Y\": -3.389801502227783}, {\"X\": 4.961342811584473, \"Y\": -3.446424722671509}, {\"X\": 4.988898754119873, \"Y\": -3.4027230739593506}, {\"X\": 5.0114240646362305, \"Y\": -3.270867109298706}, {\"X\": 4.9904303550720215, \"Y\": -3.424025535583496}, {\"X\": -3.5106942653656006, \"Y\": 0.5920760035514832}, {\"X\": -4.928003311157227, \"Y\": 4.063986301422119}, {\"X\": -4.317558288574219, \"Y\": 4.66018533706665}, {\"X\": -5.556158542633057, \"Y\": -1.9104567766189575}, {\"X\": -0.9224768877029419, \"Y\": 4.438468933105469}, {\"X\": 4.2202677726745605, \"Y\": 5.200155258178711}, {\"X\": -3.4944264888763428, \"Y\": 0.5962952375411987}, {\"X\": -4.9069132804870605, \"Y\": 4.064338207244873}, {\"X\": -4.335117816925049, \"Y\": 4.636363983154297}, {\"X\": -5.51091194152832, \"Y\": -1.9130173921585083}, {\"X\": -0.9684655666351318, \"Y\": 4.4262166023254395}, {\"X\": 4.05696439743042, \"Y\": 5.267860412597656}, {\"X\": -3.496368169784546, \"Y\": 0.5935930013656616}, {\"X\": -4.8905558586120605, \"Y\": 3.962331771850586}, {\"X\": -4.273097515106201, \"Y\": 4.559525012969971}, {\"X\": -5.545207500457764, \"Y\": -1.8974225521087646}, {\"X\": -0.9033744931221008, \"Y\": 4.439804553985596}, {\"X\": 4.0809526443481445, \"Y\": 5.313084602355957}, {\"X\": -3.496389627456665, \"Y\": 0.6144275665283203}, {\"X\": -4.916260242462158, \"Y\": 3.9307377338409424}, {\"X\": -4.323702335357666, \"Y\": 4.667575359344482}, {\"X\": -5.556656837463379, \"Y\": -1.9553837776184082}, {\"X\": -0.92857426404953, \"Y\": 4.437188148498535}, {\"X\": 4.103397369384766, \"Y\": 5.360863208770752}, {\"X\": -3.492072582244873, \"Y\": 0.5969327092170715}, {\"X\": 0.5794135928153992, \"Y\": 7.032435417175293}, {\"X\": -3.509767532348633, \"Y\": 0.596931517124176}, {\"X\": -4.915675640106201, \"Y\": 3.9108870029449463}, {\"X\": -4.482979774475098, \"Y\": 4.6361565589904785}, {\"X\": -5.568840980529785, \"Y\": -1.904090166091919}, {\"X\": -1.0648618936538696, \"Y\": 4.497962951660156}, {\"X\": 4.209622383117676, \"Y\": 5.317009449005127}, {\"X\": -3.4968419075012207, \"Y\": 0.6249291300773621}, {\"X\": -4.921903610229492, \"Y\": 3.9170007705688477}, {\"X\": -4.352202415466309, \"Y\": 4.588962078094482}, {\"X\": -2.1371757984161377, \"Y\": 2.6779069900512695}, {\"X\": -1.081856369972229, \"Y\": 3.7144229412078857}, {\"X\": -1.2244162559509277, \"Y\": 2.0391452312469482}, {\"X\": -0.6866280436515808, \"Y\": 3.554452657699585}, {\"X\": 4.09534215927124, \"Y\": 5.247403144836426}, {\"X\": -3.4992289543151855, \"Y\": 0.6034438014030457}, {\"X\": -3.1949234008789062, \"Y\": 2.4386627674102783}, {\"X\": -4.615682125091553, \"Y\": 4.148307800292969}, {\"X\": -4.2211408615112305, \"Y\": 4.6651225090026855}, {\"X\": 0.5815724730491638, \"Y\": 7.120851993560791}, {\"X\": -3.4982151985168457, \"Y\": 0.557754635810852}, {\"X\": -4.914879322052002, \"Y\": 3.9198460578918457}, {\"X\": -4.382787227630615, \"Y\": 4.636083126068115}, {\"X\": -5.658852577209473, \"Y\": -1.9013255834579468}, {\"X\": -0.9004103541374207, \"Y\": 4.468052864074707}, {\"X\": 4.140907287597656, \"Y\": 5.211461067199707}, {\"X\": -3.556168794631958, \"Y\": 0.6243316531181335}, {\"X\": -4.924213409423828, \"Y\": 3.9092276096343994}, {\"X\": -4.32058572769165, \"Y\": 4.546728134155273}, {\"X\": -5.59363317489624, \"Y\": -2.1143534183502197}, {\"X\": -0.785781979560852, \"Y\": 4.454047203063965}, {\"X\": 4.083629131317139, \"Y\": 5.314685344696045}, {\"X\": -3.4969379901885986, \"Y\": 0.5932160019874573}, {\"X\": -4.841316223144531, \"Y\": 3.9200832843780518}, {\"X\": -4.32377290725708, \"Y\": 4.679582118988037}, {\"X\": -5.564024925231934, \"Y\": -2.0579373836517334}, {\"X\": -0.8445252776145935, \"Y\": 4.511016368865967}, {\"X\": 4.058206081390381, \"Y\": 5.299685955047607}, {\"X\": -3.5052425861358643, \"Y\": 0.5964800715446472}, {\"X\": -4.8277716636657715, \"Y\": 3.8655552864074707}, {\"X\": -4.279577732086182, \"Y\": 4.712740898132324}, {\"X\": -5.5124192237854, \"Y\": -1.9400304555892944}, {\"X\": 0.571776270866394, \"Y\": 7.083115100860596}, {\"X\": -3.4180779457092285, \"Y\": 0.6155080795288086}, {\"X\": -4.904195308685303, \"Y\": 3.9617981910705566}, {\"X\": -4.319715976715088, \"Y\": 4.625317096710205}, {\"X\": 0.5730694532394409, \"Y\": 7.302924156188965}, {\"X\": -3.4952754974365234, \"Y\": 0.6022667288780212}, {\"X\": -4.850836753845215, \"Y\": 3.9715683460235596}, {\"X\": -4.298733711242676, \"Y\": 4.616074562072754}, {\"X\": -5.509201526641846, \"Y\": -1.962355375289917}, {\"X\": -0.9248394966125488, \"Y\": 4.489763259887695}, {\"X\": 4.164369583129883, \"Y\": 5.300263404846191}, {\"X\": -3.494800567626953, \"Y\": 0.6253698468208313}, {\"X\": -4.921470642089844, \"Y\": 3.685086488723755}, {\"X\": -4.375556468963623, \"Y\": 4.639667510986328}, {\"X\": -5.571596622467041, \"Y\": -1.9456770420074463}, {\"X\": -0.9119322896003723, \"Y\": 4.4278950691223145}, {\"X\": 4.260761260986328, \"Y\": 5.294797897338867}, {\"X\": -3.496384382247925, \"Y\": 0.5967705845832825}, {\"X\": -4.943153381347656, \"Y\": 3.912466049194336}, {\"X\": -4.334197521209717, \"Y\": 4.640122413635254}, {\"X\": -5.545472145080566, \"Y\": -1.9528995752334595}, {\"X\": -0.9156866073608398, \"Y\": 4.4458489418029785}, {\"X\": 4.26007604598999, \"Y\": 5.2713727951049805}, {\"X\": -3.4969940185546875, \"Y\": 0.5971099734306335}, {\"X\": -4.85938835144043, \"Y\": 3.9327752590179443}, {\"X\": -4.27982234954834, \"Y\": 4.6284589767456055}, {\"X\": -5.563259124755859, \"Y\": -1.9424922466278076}, {\"X\": -0.9248394966125488, \"Y\": 4.489763259887695}, {\"X\": 4.447729110717773, \"Y\": 5.615594387054443}, {\"X\": -3.4992289543151855, \"Y\": 0.603444516658783}, {\"X\": -4.97808837890625, \"Y\": 3.9539458751678467}, {\"X\": 0.5899763703346252, \"Y\": 7.288604736328125}, {\"X\": -3.4979758262634277, \"Y\": 0.6256961226463318}, {\"X\": -4.90986442565918, \"Y\": 3.8846275806427}, {\"X\": -4.275782585144043, \"Y\": 4.664892673492432}, {\"X\": -5.576135158538818, \"Y\": -1.946879267692566}, {\"X\": -0.9472948908805847, \"Y\": 4.44574499130249}, {\"X\": 3.9926838874816895, \"Y\": 5.244349956512451}, {\"X\": -3.494778633117676, \"Y\": 0.5958784818649292}, {\"X\": -4.841328144073486, \"Y\": 3.9473068714141846}, {\"X\": -4.324216365814209, \"Y\": 4.628420829772949}, {\"X\": -5.562849521636963, \"Y\": -1.7765655517578125}, {\"X\": -0.9178462624549866, \"Y\": 4.386389255523682}, {\"X\": 4.127405643463135, \"Y\": 5.4077863693237305}]}}, {\"mode\": \"vega-lite\"});\n",
       "</script>"
      ],
      "text/plain": [
       "alt.Chart(...)"
      ]
     },
     "execution_count": 110,
     "metadata": {},
     "output_type": "execute_result"
    }
   ],
   "source": [
    "alt.Chart(df_tsne_coords).mark_circle(\n",
    "    opacity=0.7\n",
    ").encode(\n",
    "    x='X',\n",
    "    y='Y',\n",
    ").properties(\n",
    "    width=500,\n",
    "    height=400,\n",
    "    title=\"Projected Last 20 Run States\"\n",
    ").interactive()"
   ]
  },
  {
   "cell_type": "code",
   "execution_count": 111,
   "metadata": {},
   "outputs": [
    {
     "data": {
      "text/html": [
       "<div>\n",
       "<style scoped>\n",
       "    .dataframe tbody tr th:only-of-type {\n",
       "        vertical-align: middle;\n",
       "    }\n",
       "\n",
       "    .dataframe tbody tr th {\n",
       "        vertical-align: top;\n",
       "    }\n",
       "\n",
       "    .dataframe thead th {\n",
       "        text-align: right;\n",
       "    }\n",
       "</style>\n",
       "<table border=\"1\" class=\"dataframe\">\n",
       "  <thead>\n",
       "    <tr style=\"text-align: right;\">\n",
       "      <th></th>\n",
       "      <th>algo_name</th>\n",
       "      <th>x_agent_position</th>\n",
       "      <th>y_agent_position</th>\n",
       "      <th>run</th>\n",
       "      <th>step</th>\n",
       "      <th>action</th>\n",
       "      <th>reward</th>\n",
       "      <th>run_reward</th>\n",
       "      <th>total_reward</th>\n",
       "      <th>biggest_reward</th>\n",
       "      <th>tsneX</th>\n",
       "      <th>tsneY</th>\n",
       "    </tr>\n",
       "  </thead>\n",
       "  <tbody>\n",
       "    <tr>\n",
       "      <th>70143</th>\n",
       "      <td>random</td>\n",
       "      <td>0</td>\n",
       "      <td>0</td>\n",
       "      <td>9980</td>\n",
       "      <td>0</td>\n",
       "      <td>2</td>\n",
       "      <td>-1</td>\n",
       "      <td>-1</td>\n",
       "      <td>0</td>\n",
       "      <td>0</td>\n",
       "      <td>-3.498351</td>\n",
       "      <td>2.504544</td>\n",
       "    </tr>\n",
       "    <tr>\n",
       "      <th>70144</th>\n",
       "      <td>random</td>\n",
       "      <td>0</td>\n",
       "      <td>0</td>\n",
       "      <td>9980</td>\n",
       "      <td>1</td>\n",
       "      <td>2</td>\n",
       "      <td>-1</td>\n",
       "      <td>-2</td>\n",
       "      <td>0</td>\n",
       "      <td>0</td>\n",
       "      <td>-3.254391</td>\n",
       "      <td>2.483817</td>\n",
       "    </tr>\n",
       "    <tr>\n",
       "      <th>70145</th>\n",
       "      <td>random</td>\n",
       "      <td>0</td>\n",
       "      <td>0</td>\n",
       "      <td>9980</td>\n",
       "      <td>2</td>\n",
       "      <td>1</td>\n",
       "      <td>-1</td>\n",
       "      <td>-3</td>\n",
       "      <td>0</td>\n",
       "      <td>0</td>\n",
       "      <td>-2.836549</td>\n",
       "      <td>2.230554</td>\n",
       "    </tr>\n",
       "    <tr>\n",
       "      <th>70146</th>\n",
       "      <td>random</td>\n",
       "      <td>0</td>\n",
       "      <td>1</td>\n",
       "      <td>9980</td>\n",
       "      <td>3</td>\n",
       "      <td>0</td>\n",
       "      <td>-1</td>\n",
       "      <td>-4</td>\n",
       "      <td>0</td>\n",
       "      <td>0</td>\n",
       "      <td>-2.281240</td>\n",
       "      <td>1.678569</td>\n",
       "    </tr>\n",
       "    <tr>\n",
       "      <th>70147</th>\n",
       "      <td>random</td>\n",
       "      <td>0</td>\n",
       "      <td>1</td>\n",
       "      <td>9980</td>\n",
       "      <td>4</td>\n",
       "      <td>2</td>\n",
       "      <td>-1</td>\n",
       "      <td>-5</td>\n",
       "      <td>0</td>\n",
       "      <td>0</td>\n",
       "      <td>-1.768908</td>\n",
       "      <td>2.759917</td>\n",
       "    </tr>\n",
       "    <tr>\n",
       "      <th>...</th>\n",
       "      <td>...</td>\n",
       "      <td>...</td>\n",
       "      <td>...</td>\n",
       "      <td>...</td>\n",
       "      <td>...</td>\n",
       "      <td>...</td>\n",
       "      <td>...</td>\n",
       "      <td>...</td>\n",
       "      <td>...</td>\n",
       "      <td>...</td>\n",
       "      <td>...</td>\n",
       "      <td>...</td>\n",
       "    </tr>\n",
       "    <tr>\n",
       "      <th>602880</th>\n",
       "      <td>q_learning</td>\n",
       "      <td>1</td>\n",
       "      <td>1</td>\n",
       "      <td>9999</td>\n",
       "      <td>1</td>\n",
       "      <td>3</td>\n",
       "      <td>-1</td>\n",
       "      <td>-2</td>\n",
       "      <td>3913656</td>\n",
       "      <td>1000</td>\n",
       "      <td>-4.841328</td>\n",
       "      <td>3.947307</td>\n",
       "    </tr>\n",
       "    <tr>\n",
       "      <th>602881</th>\n",
       "      <td>q_learning</td>\n",
       "      <td>2</td>\n",
       "      <td>1</td>\n",
       "      <td>9999</td>\n",
       "      <td>2</td>\n",
       "      <td>3</td>\n",
       "      <td>-1</td>\n",
       "      <td>-3</td>\n",
       "      <td>3913656</td>\n",
       "      <td>1000</td>\n",
       "      <td>-4.324216</td>\n",
       "      <td>4.628421</td>\n",
       "    </tr>\n",
       "    <tr>\n",
       "      <th>602882</th>\n",
       "      <td>q_learning</td>\n",
       "      <td>2</td>\n",
       "      <td>2</td>\n",
       "      <td>9999</td>\n",
       "      <td>3</td>\n",
       "      <td>0</td>\n",
       "      <td>-1</td>\n",
       "      <td>-4</td>\n",
       "      <td>3913656</td>\n",
       "      <td>1000</td>\n",
       "      <td>-5.562850</td>\n",
       "      <td>-1.776566</td>\n",
       "    </tr>\n",
       "    <tr>\n",
       "      <th>602883</th>\n",
       "      <td>q_learning</td>\n",
       "      <td>3</td>\n",
       "      <td>2</td>\n",
       "      <td>9999</td>\n",
       "      <td>4</td>\n",
       "      <td>3</td>\n",
       "      <td>-1</td>\n",
       "      <td>-5</td>\n",
       "      <td>3913656</td>\n",
       "      <td>1000</td>\n",
       "      <td>-0.917846</td>\n",
       "      <td>4.386389</td>\n",
       "    </tr>\n",
       "    <tr>\n",
       "      <th>602884</th>\n",
       "      <td>q_learning</td>\n",
       "      <td>3</td>\n",
       "      <td>3</td>\n",
       "      <td>9999</td>\n",
       "      <td>5</td>\n",
       "      <td>0</td>\n",
       "      <td>1000</td>\n",
       "      <td>995</td>\n",
       "      <td>3913656</td>\n",
       "      <td>1000</td>\n",
       "      <td>4.127406</td>\n",
       "      <td>5.407786</td>\n",
       "    </tr>\n",
       "  </tbody>\n",
       "</table>\n",
       "<p>1107 rows × 12 columns</p>\n",
       "</div>"
      ],
      "text/plain": [
       "         algo_name  x_agent_position  y_agent_position   run  step  action  \\\n",
       "70143       random                 0                 0  9980     0       2   \n",
       "70144       random                 0                 0  9980     1       2   \n",
       "70145       random                 0                 0  9980     2       1   \n",
       "70146       random                 0                 1  9980     3       0   \n",
       "70147       random                 0                 1  9980     4       2   \n",
       "...            ...               ...               ...   ...   ...     ...   \n",
       "602880  q_learning                 1                 1  9999     1       3   \n",
       "602881  q_learning                 2                 1  9999     2       3   \n",
       "602882  q_learning                 2                 2  9999     3       0   \n",
       "602883  q_learning                 3                 2  9999     4       3   \n",
       "602884  q_learning                 3                 3  9999     5       0   \n",
       "\n",
       "        reward  run_reward  total_reward  biggest_reward     tsneX     tsneY  \n",
       "70143       -1          -1             0               0 -3.498351  2.504544  \n",
       "70144       -1          -2             0               0 -3.254391  2.483817  \n",
       "70145       -1          -3             0               0 -2.836549  2.230554  \n",
       "70146       -1          -4             0               0 -2.281240  1.678569  \n",
       "70147       -1          -5             0               0 -1.768908  2.759917  \n",
       "...        ...         ...           ...             ...       ...       ...  \n",
       "602880      -1          -2       3913656            1000 -4.841328  3.947307  \n",
       "602881      -1          -3       3913656            1000 -4.324216  4.628421  \n",
       "602882      -1          -4       3913656            1000 -5.562850 -1.776566  \n",
       "602883      -1          -5       3913656            1000 -0.917846  4.386389  \n",
       "602884    1000         995       3913656            1000  4.127406  5.407786  \n",
       "\n",
       "[1107 rows x 12 columns]"
      ]
     },
     "execution_count": 111,
     "metadata": {},
     "output_type": "execute_result"
    }
   ],
   "source": [
    "df.insert(10,'tsneX',df_tsne_coords['X'].values)\n",
    "df.insert(11,'tsneY',df_tsne_coords['Y'].values)\n",
    "#df.loc[:, 'step']=df['run']+df['step']\n",
    "df"
   ]
  },
  {
   "cell_type": "code",
   "execution_count": null,
   "metadata": {
    "collapsed": false,
    "jupyter": {
     "outputs_hidden": false
    },
    "pycharm": {
     "name": "#%%\n"
    }
   },
   "outputs": [],
   "source": [
    "alt.Chart(df).mark_line(\n",
    "    opacity=0.6\n",
    ").encode(\n",
    "    x='tsneX',\n",
    "    y='tsneY',\n",
    "    color='algo_name:N',\n",
    "    shape='reward:N',\n",
    "    order='step:Q'\n",
    ").properties(\n",
    "    width=600,\n",
    "    height=600,\n",
    "    title=\"Projected Last 20 Run States\"\n",
    ").interactive()"
   ]
  },
  {
   "cell_type": "markdown",
   "metadata": {},
   "source": [
    "This is the TSNE downprojection using the last 20 states without cumulative reward and without the run number\n",
    "- Red circle is the dying states\n",
    "- Orange circles are the Q-Learning states that lead to death\n",
    "- Green cricle is the winning states\n",
    "- Black circle is the starting point/area\n",
    "- We can observe very similar things as in the UMAP plot\n",
    "- Random dies fast.\n",
    "- Q-Learning wins or dies fast.\n",
    "- Greedy takes its time exploring and never dies."
   ]
  },
  {
   "cell_type": "markdown",
   "metadata": {},
   "source": [
    "<img src=\"data/wumpus/img/tsne.png\"/>"
   ]
  },
  {
   "cell_type": "markdown",
   "metadata": {},
   "source": [
    "- Which features did you use? Why?\n",
    "\n",
    " [step, current pos of the agent, action and reward]\n",
    "  Why? --> We wanted to see how each algorithm performed.\n",
    "\n",
    "- Why did you choose these hyperparameters?\n",
    "\n",
    "  --> perplexity=15, n_iter=250. because delivered good results.\n",
    "  \n",
    "- Are there patterns in the global _and_ the local structure?\n",
    "\n",
    "  --> see comments above"
   ]
  },
  {
   "cell_type": "markdown",
   "metadata": {},
   "source": [
    "### Link States\n",
    "Connect the states that belong together.\n",
    "\n",
    "The states of a single solution should be connected to see the path from the start to the end state.\n",
    "How the points are connected is up to you, for example, with straight lines or splines.\n",
    "\n",
    "\n",
    "We did this part already combined with the first one."
   ]
  },
  {
   "cell_type": "markdown",
   "metadata": {},
   "source": [
    "### Meta Data Encoding \n",
    "Encode addtional features in the visualization.\n",
    "\n",
    "Use features of the source data and include them in the projection, e.g., by using color, opacity, different shapes or line styles, etc.\n",
    "\n",
    "We did this part already combined with the first one."
   ]
  },
  {
   "cell_type": "markdown",
   "metadata": {},
   "source": [
    "### Interpretion\n",
    "- What can be seen in the projection(s)?\n",
    "- Was it what you expected? If not what did you expect?\n",
    "- Can you confirm prior hypotheses from the projection?\n",
    "- Did you get any unexpected insights?\n",
    "\n",
    "\n",
    "In the beginning we expected that each algorithm will perform differently.\n",
    "And we clearly saw that in both TSEN and UMAP.\n",
    "\n",
    "So what did we see:\n",
    "- the starting states\n",
    "- the winning states\n",
    "- where they died\n",
    "- how greedy explored the space differently than the other two"
   ]
  },
  {
   "cell_type": "markdown",
   "metadata": {},
   "source": [
    "## Submission\n",
    "When you’ve finished working on this assignment please download this notebook as HTML and add it to your repository in addition to the notebook file."
   ]
  }
 ],
 "metadata": {
  "kernelspec": {
   "display_name": "Python 3",
   "language": "python",
   "name": "python3"
  },
  "language_info": {
   "codemirror_mode": {
    "name": "ipython",
    "version": 3
   },
   "file_extension": ".py",
   "mimetype": "text/x-python",
   "name": "python",
   "nbconvert_exporter": "python",
   "pygments_lexer": "ipython3",
   "version": "3.8.3"
  }
 },
 "nbformat": 4,
 "nbformat_minor": 4
}
